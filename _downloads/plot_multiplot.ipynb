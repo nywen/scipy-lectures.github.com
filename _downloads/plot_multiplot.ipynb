{
  "nbformat_minor": 0,
  "cells": [
    {
      "cell_type": "code",
      "execution_count": null,
      "outputs": [],
      "source": [
        "%matplotlib inline"
      ],
      "metadata": {
        "collapsed": false
      }
    },
    {
      "cell_type": "markdown",
      "source": [
        "\nSubplots\n=========\n\nShow multiple subplots in matplotlib.\n\n"
      ],
      "metadata": {}
    },
    {
      "cell_type": "code",
      "execution_count": null,
      "outputs": [],
      "source": [
        "import matplotlib.pyplot as plt\n\nfig = plt.figure()\nfig.subplots_adjust(bottom=0.025, left=0.025, top = 0.975, right=0.975)\n\nplt.subplot(2, 1, 1)\nplt.xticks(()), plt.yticks(())\n\nplt.subplot(2, 3, 4)\nplt.xticks(())\nplt.yticks(())\n\nplt.subplot(2, 3, 5)\nplt.xticks(())\nplt.yticks(())\n\nplt.subplot(2, 3, 6)\nplt.xticks(())\nplt.yticks(())\n\nplt.show()"
      ],
      "metadata": {
        "collapsed": false
      }
    }
  ],
  "nbformat": 4,
  "metadata": {
    "kernelspec": {
      "display_name": "Python 3",
      "language": "python",
      "name": "python3"
    },
    "language_info": {
      "mimetype": "text/x-python",
      "name": "python",
      "file_extension": ".py",
      "nbconvert_exporter": "python",
      "pygments_lexer": "ipython3",
      "codemirror_mode": {
        "version": 3,
        "name": "ipython"
      },
      "version": "3.5.4"
    }
  }
}