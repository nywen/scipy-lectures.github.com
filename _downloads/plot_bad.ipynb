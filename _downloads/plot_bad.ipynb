{
  "nbformat_minor": 0,
  "cells": [
    {
      "cell_type": "code",
      "execution_count": null,
      "outputs": [],
      "source": [
        "%matplotlib inline"
      ],
      "metadata": {
        "collapsed": false
      }
    },
    {
      "cell_type": "markdown",
      "source": [
        "\nA simple plotting example\n==========================\n\nA plotting example with a few simple tweaks\n\n"
      ],
      "metadata": {}
    },
    {
      "cell_type": "code",
      "execution_count": null,
      "outputs": [],
      "source": [
        "import numpy as np\nimport matplotlib\nmatplotlib.use('Agg')\nimport matplotlib.pyplot as plt\n\nfig = plt.figure(figsize=(5, 4), dpi=72)\naxes = fig.add_axes([0.01, 0.01, .98, 0.98])\nx = np.linspace(0, 2, 200, endpoint=True)\ny = np.sin(2 * np.pi * x)\nplt.plot(x, y, lw=.25, c='k')\nplt.xticks(np.arange(0.0, 2.0, 0.1))\nplt.yticks(np.arange(-1.0, 1.0, 0.1))\nplt.grid()\nplt.show()"
      ],
      "metadata": {
        "collapsed": false
      }
    }
  ],
  "nbformat": 4,
  "metadata": {
    "kernelspec": {
      "display_name": "Python 3",
      "language": "python",
      "name": "python3"
    },
    "language_info": {
      "mimetype": "text/x-python",
      "name": "python",
      "file_extension": ".py",
      "nbconvert_exporter": "python",
      "pygments_lexer": "ipython3",
      "codemirror_mode": {
        "version": 3,
        "name": "ipython"
      },
      "version": "3.5.4"
    }
  }
}