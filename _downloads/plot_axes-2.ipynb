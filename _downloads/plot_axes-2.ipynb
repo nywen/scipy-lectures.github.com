{
  "nbformat_minor": 0,
  "cells": [
    {
      "cell_type": "code",
      "execution_count": null,
      "outputs": [],
      "source": [
        "%matplotlib inline"
      ],
      "metadata": {
        "collapsed": false
      }
    },
    {
      "cell_type": "markdown",
      "source": [
        "\nAxes\n====\n\nThis example shows various axes command to position matplotlib axes.\n\n\n"
      ],
      "metadata": {}
    },
    {
      "cell_type": "code",
      "execution_count": null,
      "outputs": [],
      "source": [
        "import matplotlib.pyplot as plt\n\nplt.axes([.1, .1, .5, .5])\nplt.xticks(())\nplt.yticks(())\nplt.text(0.1, 0.1, 'axes([0.1, 0.1, .8, .8])', ha='left', va='center',\n        size=16, alpha=.5)\n\nplt.axes([.2, .2, .5, .5])\nplt.xticks(())\nplt.yticks(())\nplt.text(0.1, 0.1, 'axes([0.2, 0.2, .5, .5])', ha='left', va='center',\n        size=16, alpha=.5)\n\nplt.axes([0.3, 0.3, .5, .5])\nplt.xticks(())\nplt.yticks(())\nplt.text(0.1, 0.1, 'axes([0.3, 0.3, .5, .5])', ha='left', va='center',\n        size=16, alpha=.5)\n\nplt.axes([.4, .4, .5, .5])\nplt.xticks(())\nplt.yticks(())\nplt.text(0.1, 0.1, 'axes([0.4, 0.4, .5, .5])', ha='left', va='center',\n        size=16, alpha=.5)\n\nplt.show()"
      ],
      "metadata": {
        "collapsed": false
      }
    }
  ],
  "nbformat": 4,
  "metadata": {
    "kernelspec": {
      "display_name": "Python 3",
      "language": "python",
      "name": "python3"
    },
    "language_info": {
      "mimetype": "text/x-python",
      "name": "python",
      "file_extension": ".py",
      "nbconvert_exporter": "python",
      "pygments_lexer": "ipython3",
      "codemirror_mode": {
        "version": 3,
        "name": "ipython"
      },
      "version": "3.5.4"
    }
  }
}