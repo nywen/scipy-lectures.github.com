{
  "nbformat_minor": 0,
  "cells": [
    {
      "cell_type": "code",
      "execution_count": null,
      "outputs": [],
      "source": [
        "%matplotlib inline"
      ],
      "metadata": {
        "collapsed": false
      }
    },
    {
      "cell_type": "markdown",
      "source": [
        "\nNoisy optimization problem\n===========================\n\nDraws a figure explaining noisy vs non-noisy optimization\n\n"
      ],
      "metadata": {}
    },
    {
      "cell_type": "code",
      "execution_count": null,
      "outputs": [],
      "source": [
        "import numpy as np\nimport pylab as pl\n\nnp.random.seed(0)\n\nx = np.linspace(-5, 5, 101)\nx_ = np.linspace(-5, 5, 31)\n\ndef f(x):\n    return -np.exp(-x**2)\n\n# A smooth function\npl.figure(1, figsize=(3, 2.5))\npl.clf()\n\npl.plot(x_, f(x_) + .2*np.random.normal(size=31), linewidth=2)\npl.plot(x, f(x), linewidth=2)\n\npl.ylim(ymin=-1.3)\npl.axis('off')\npl.tight_layout()\npl.show()"
      ],
      "metadata": {
        "collapsed": false
      }
    }
  ],
  "nbformat": 4,
  "metadata": {
    "kernelspec": {
      "display_name": "Python 3",
      "language": "python",
      "name": "python3"
    },
    "language_info": {
      "mimetype": "text/x-python",
      "name": "python",
      "file_extension": ".py",
      "nbconvert_exporter": "python",
      "pygments_lexer": "ipython3",
      "codemirror_mode": {
        "version": 3,
        "name": "ipython"
      },
      "version": "3.5.4"
    }
  }
}