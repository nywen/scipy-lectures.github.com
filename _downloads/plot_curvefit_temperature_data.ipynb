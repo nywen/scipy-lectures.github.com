{
  "nbformat_minor": 0,
  "cells": [
    {
      "cell_type": "code",
      "execution_count": null,
      "outputs": [],
      "source": [
        "%matplotlib inline"
      ],
      "metadata": {
        "collapsed": false
      }
    },
    {
      "cell_type": "markdown",
      "source": [
        "\n==============================================================\nCurve fitting: temperature as a function of month of the year\n==============================================================\n\nWe have the min and max temperatures in Alaska for each months of the\nyear. We would like to find a function to describe this yearly evolution.\n\nFor this, we will fit a periodic function.\n\n"
      ],
      "metadata": {}
    },
    {
      "cell_type": "markdown",
      "source": [
        "The data\n###########################################################\n\n"
      ],
      "metadata": {}
    },
    {
      "cell_type": "code",
      "execution_count": null,
      "outputs": [],
      "source": [
        "import numpy as np\n\ntemp_max = np.array([17,  19,  21,  28,  33,  38, 37,  37,  31,  23,  19,  18])\ntemp_min = np.array([-62, -59, -56, -46, -32, -18, -9, -13, -25, -46, -52, -58])\n\nimport matplotlib.pyplot as plt\nmonths = np.arange(12)\nplt.plot(months, temp_max, 'ro')\nplt.plot(months, temp_min, 'bo')\nplt.xlabel('Month')\nplt.ylabel('Min and max temperature')"
      ],
      "metadata": {
        "collapsed": false
      }
    },
    {
      "cell_type": "markdown",
      "source": [
        "Fitting it to a periodic function\n###########################################################\n\n"
      ],
      "metadata": {}
    },
    {
      "cell_type": "code",
      "execution_count": null,
      "outputs": [],
      "source": [
        "from scipy import optimize\ndef yearly_temps(times, avg, ampl, time_offset):\n    return (avg\n            + ampl * np.cos((times + time_offset) * 2 * np.pi / times.max()))\n\nres_max, cov_max = optimize.curve_fit(yearly_temps, months,\n                                      temp_max, [20, 10, 0])\nres_min, cov_min = optimize.curve_fit(yearly_temps, months,\n                                      temp_min, [-40, 20, 0])"
      ],
      "metadata": {
        "collapsed": false
      }
    },
    {
      "cell_type": "markdown",
      "source": [
        "Plotting the fit\n###########################################################\n\n"
      ],
      "metadata": {}
    },
    {
      "cell_type": "code",
      "execution_count": null,
      "outputs": [],
      "source": [
        "days = np.linspace(0, 12, num=365)\n\nplt.figure()\nplt.plot(months, temp_max, 'ro')\nplt.plot(days, yearly_temps(days, *res_max), 'r-')\nplt.plot(months, temp_min, 'bo')\nplt.plot(days, yearly_temps(days, *res_min), 'b-')\nplt.xlabel('Month')\nplt.ylabel('Temperature ($^\\circ$C)')\n\nplt.show()"
      ],
      "metadata": {
        "collapsed": false
      }
    }
  ],
  "nbformat": 4,
  "metadata": {
    "kernelspec": {
      "display_name": "Python 3",
      "language": "python",
      "name": "python3"
    },
    "language_info": {
      "mimetype": "text/x-python",
      "name": "python",
      "file_extension": ".py",
      "nbconvert_exporter": "python",
      "pygments_lexer": "ipython3",
      "codemirror_mode": {
        "version": 3,
        "name": "ipython"
      },
      "version": "3.5.4"
    }
  }
}