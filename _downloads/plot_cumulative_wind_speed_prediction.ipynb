{
  "nbformat_minor": 0,
  "cells": [
    {
      "cell_type": "code",
      "execution_count": null,
      "outputs": [],
      "source": [
        "%matplotlib inline"
      ],
      "metadata": {
        "collapsed": false
      }
    },
    {
      "cell_type": "markdown",
      "source": [
        "\nCumulative wind speed prediction\n================================\n\nGenerate the image cumulative-wind-speed-prediction.png\nfor the interpolate section of scipy.rst.\n\n"
      ],
      "metadata": {}
    },
    {
      "cell_type": "code",
      "execution_count": null,
      "outputs": [],
      "source": [
        "import numpy as np\nfrom scipy.interpolate import UnivariateSpline\nimport pylab as pl\n\nmax_speeds = np.load('max-speeds.npy')\nyears_nb = max_speeds.shape[0]\n\ncprob = (np.arange(years_nb, dtype=np.float32) + 1)/(years_nb + 1)\nsorted_max_speeds = np.sort(max_speeds)\nspeed_spline = UnivariateSpline(cprob, sorted_max_speeds)\nnprob = np.linspace(0, 1, 1e2)\nfitted_max_speeds = speed_spline(nprob)\n\nfifty_prob = 1. - 0.02\nfifty_wind = speed_spline(fifty_prob)\n\npl.figure()\npl.plot(sorted_max_speeds, cprob, 'o')\npl.plot(fitted_max_speeds, nprob, 'g--')\npl.plot([fifty_wind], [fifty_prob], 'o', ms=8., mfc='y', mec='y')\npl.text(30, 0.05, '$V_{50} = %.2f \\, m/s$' % fifty_wind)\npl.plot([fifty_wind, fifty_wind], [pl.axis()[2], fifty_prob], 'k--')\npl.xlabel('Annual wind speed maxima [$m/s$]')\npl.ylabel('Cumulative probability')"
      ],
      "metadata": {
        "collapsed": false
      }
    }
  ],
  "nbformat": 4,
  "metadata": {
    "kernelspec": {
      "display_name": "Python 3",
      "language": "python",
      "name": "python3"
    },
    "language_info": {
      "mimetype": "text/x-python",
      "name": "python",
      "file_extension": ".py",
      "nbconvert_exporter": "python",
      "pygments_lexer": "ipython3",
      "codemirror_mode": {
        "version": 3,
        "name": "ipython"
      },
      "version": "3.5.4"
    }
  }
}