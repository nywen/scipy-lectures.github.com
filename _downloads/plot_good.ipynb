{
  "nbformat_minor": 0,
  "cells": [
    {
      "cell_type": "code",
      "execution_count": null,
      "outputs": [],
      "source": [
        "%matplotlib inline"
      ],
      "metadata": {
        "collapsed": false
      }
    },
    {
      "cell_type": "markdown",
      "source": [
        "\nA simple, good-looking plot\n===========================\n\nDemoing some simple features of matplotlib\n\n"
      ],
      "metadata": {}
    },
    {
      "cell_type": "code",
      "execution_count": null,
      "outputs": [],
      "source": [
        "import numpy as np\nimport matplotlib\nmatplotlib.use('Agg')\nimport matplotlib.pyplot as plt\n\nfig = plt.figure(figsize=(5, 4), dpi=72)\naxes = fig.add_axes([0.01, 0.01, .98, 0.98])\nX = np.linspace(0, 2, 200, endpoint=True)\nY = np.sin(2*np.pi*X)\nplt.plot(X, Y, lw=2)\nplt.ylim(-1.1, 1.1)\nplt.grid()\n\nplt.show()"
      ],
      "metadata": {
        "collapsed": false
      }
    }
  ],
  "nbformat": 4,
  "metadata": {
    "kernelspec": {
      "display_name": "Python 3",
      "language": "python",
      "name": "python3"
    },
    "language_info": {
      "mimetype": "text/x-python",
      "name": "python",
      "file_extension": ".py",
      "nbconvert_exporter": "python",
      "pygments_lexer": "ipython3",
      "codemirror_mode": {
        "version": 3,
        "name": "ipython"
      },
      "version": "3.5.4"
    }
  }
}