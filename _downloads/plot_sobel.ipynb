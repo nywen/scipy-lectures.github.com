{
  "nbformat_minor": 0,
  "cells": [
    {
      "cell_type": "code",
      "execution_count": null,
      "outputs": [],
      "source": [
        "%matplotlib inline"
      ],
      "metadata": {
        "collapsed": false
      }
    },
    {
      "cell_type": "markdown",
      "source": [
        "\nComputing horizontal gradients with the Sobel filter\n=====================================================\n\nThis example illustrates the use of the horizontal Sobel filter, to compute\nhorizontal gradients.\n\n"
      ],
      "metadata": {}
    },
    {
      "cell_type": "code",
      "execution_count": null,
      "outputs": [],
      "source": [
        "from skimage import data\nfrom skimage import filters\nimport matplotlib.pyplot as plt\n\ntext = data.text()\nhsobel_text = filters.sobel_h(text)\n\nplt.figure(figsize=(12, 3))\n\nplt.subplot(121)\nplt.imshow(text, cmap='gray', interpolation='nearest')\nplt.axis('off')\nplt.subplot(122)\nplt.imshow(hsobel_text, cmap='spectral', interpolation='nearest')\nplt.axis('off')\nplt.tight_layout()\nplt.show()"
      ],
      "metadata": {
        "collapsed": false
      }
    }
  ],
  "nbformat": 4,
  "metadata": {
    "kernelspec": {
      "display_name": "Python 3",
      "language": "python",
      "name": "python3"
    },
    "language_info": {
      "mimetype": "text/x-python",
      "name": "python",
      "file_extension": ".py",
      "nbconvert_exporter": "python",
      "pygments_lexer": "ipython3",
      "codemirror_mode": {
        "version": 3,
        "name": "ipython"
      },
      "version": "3.5.4"
    }
  }
}