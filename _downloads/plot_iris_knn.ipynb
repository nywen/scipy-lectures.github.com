{
  "nbformat_minor": 0,
  "cells": [
    {
      "cell_type": "code",
      "execution_count": null,
      "outputs": [],
      "source": [
        "%matplotlib inline"
      ],
      "metadata": {
        "collapsed": false
      }
    },
    {
      "cell_type": "markdown",
      "source": [
        "\nNearest-neighbor prediction on iris\n====================================\n\nPlot the decision boundary of nearest neighbor decision on iris, first\nwith a single nearest neighbor, and then using 3 nearest neighbors.\n\n"
      ],
      "metadata": {}
    },
    {
      "cell_type": "code",
      "execution_count": null,
      "outputs": [],
      "source": [
        "import numpy as np\nfrom matplotlib import pyplot as plt\nfrom sklearn import neighbors, datasets\nfrom matplotlib.colors import ListedColormap\n\n# Create color maps for 3-class classification problem, as with iris\ncmap_light = ListedColormap(['#FFAAAA', '#AAFFAA', '#AAAAFF'])\ncmap_bold = ListedColormap(['#FF0000', '#00FF00', '#0000FF'])\n\niris = datasets.load_iris()\nX = iris.data[:, :2]  # we only take the first two features. We could\n                    # avoid this ugly slicing by using a two-dim dataset\ny = iris.target\n\nknn = neighbors.KNeighborsClassifier(n_neighbors=1)\nknn.fit(X, y)\n\nx_min, x_max = X[:, 0].min() - .1, X[:, 0].max() + .1\ny_min, y_max = X[:, 1].min() - .1, X[:, 1].max() + .1\nxx, yy = np.meshgrid(np.linspace(x_min, x_max, 100),\n                        np.linspace(y_min, y_max, 100))\nZ = knn.predict(np.c_[xx.ravel(), yy.ravel()])"
      ],
      "metadata": {
        "collapsed": false
      }
    },
    {
      "cell_type": "markdown",
      "source": [
        "Put the result into a color plot\n\n"
      ],
      "metadata": {}
    },
    {
      "cell_type": "code",
      "execution_count": null,
      "outputs": [],
      "source": [
        "Z = Z.reshape(xx.shape)\nplt.figure()\nplt.pcolormesh(xx, yy, Z, cmap=cmap_light)\n\n# Plot also the training points\nplt.scatter(X[:, 0], X[:, 1], c=y, cmap=cmap_bold)\nplt.xlabel('sepal length (cm)')\nplt.ylabel('sepal width (cm)')\nplt.axis('tight')"
      ],
      "metadata": {
        "collapsed": false
      }
    },
    {
      "cell_type": "markdown",
      "source": [
        "And now, redo the analysis with 3 neighbors\n\n"
      ],
      "metadata": {}
    },
    {
      "cell_type": "code",
      "execution_count": null,
      "outputs": [],
      "source": [
        "knn = neighbors.KNeighborsClassifier(n_neighbors=3)\nknn.fit(X, y)\n\nZ = knn.predict(np.c_[xx.ravel(), yy.ravel()])\n\n# Put the result into a color plot\nZ = Z.reshape(xx.shape)\nplt.figure()\nplt.pcolormesh(xx, yy, Z, cmap=cmap_light)\n\n# Plot also the training points\nplt.scatter(X[:, 0], X[:, 1], c=y, cmap=cmap_bold)\nplt.xlabel('sepal length (cm)')\nplt.ylabel('sepal width (cm)')\nplt.axis('tight')\n\nplt.show()"
      ],
      "metadata": {
        "collapsed": false
      }
    }
  ],
  "nbformat": 4,
  "metadata": {
    "kernelspec": {
      "display_name": "Python 3",
      "language": "python",
      "name": "python3"
    },
    "language_info": {
      "mimetype": "text/x-python",
      "name": "python",
      "file_extension": ".py",
      "nbconvert_exporter": "python",
      "pygments_lexer": "ipython3",
      "codemirror_mode": {
        "version": 3,
        "name": "ipython"
      },
      "version": "3.5.4"
    }
  }
}