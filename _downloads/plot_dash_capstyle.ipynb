{
  "nbformat_minor": 0,
  "cells": [
    {
      "cell_type": "code",
      "execution_count": null,
      "outputs": [],
      "source": [
        "%matplotlib inline"
      ],
      "metadata": {
        "collapsed": false
      }
    },
    {
      "cell_type": "markdown",
      "source": [
        "\nDash capstyle\n=============\n\nAn example demoing the dash capstyle.\n\n"
      ],
      "metadata": {}
    },
    {
      "cell_type": "code",
      "execution_count": null,
      "outputs": [],
      "source": [
        "import numpy as np\nimport matplotlib.pyplot as plt\n\nsize = 256, 16\ndpi = 72.0\nfigsize = size[0] / float(dpi), size[1] / float(dpi)\nfig = plt.figure(figsize=figsize, dpi=dpi)\nfig.patch.set_alpha(0)\nplt.axes([0, 0, 1, 1], frameon=False)\n\nplt.plot(np.arange(4), np.ones(4), color=\"blue\", dashes=[15, 15],\n        linewidth=8, dash_capstyle='butt')\n\nplt.plot(5 + np.arange(4), np.ones(4), color=\"blue\", dashes=[15, 15],\n        linewidth=8, dash_capstyle='round')\n\nplt.plot(10 + np.arange(4), np.ones(4), color=\"blue\", dashes=[15, 15],\n        linewidth=8, dash_capstyle='projecting')\n\nplt.xlim(0, 14)\nplt.xticks(())\nplt.yticks(())\n\nplt.show()"
      ],
      "metadata": {
        "collapsed": false
      }
    }
  ],
  "nbformat": 4,
  "metadata": {
    "kernelspec": {
      "display_name": "Python 3",
      "language": "python",
      "name": "python3"
    },
    "language_info": {
      "mimetype": "text/x-python",
      "name": "python",
      "file_extension": ".py",
      "nbconvert_exporter": "python",
      "pygments_lexer": "ipython3",
      "codemirror_mode": {
        "version": 3,
        "name": "ipython"
      },
      "version": "3.5.4"
    }
  }
}