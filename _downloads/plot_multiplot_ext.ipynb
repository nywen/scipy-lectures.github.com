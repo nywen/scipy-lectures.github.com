{
  "nbformat_minor": 0,
  "cells": [
    {
      "cell_type": "code",
      "execution_count": null,
      "outputs": [],
      "source": [
        "%matplotlib inline"
      ],
      "metadata": {
        "collapsed": false
      }
    },
    {
      "cell_type": "markdown",
      "source": [
        "\nMultiple plots vignette\n========================\n\nDemo multiple plots and style the figure.\n\n"
      ],
      "metadata": {}
    },
    {
      "cell_type": "code",
      "execution_count": null,
      "outputs": [],
      "source": [
        "import matplotlib.pyplot as plt\n\nax = plt.subplot(2, 1, 1)\nax.set_xticklabels([])\nax.set_yticklabels([])\n\n\n# Add a title and a box around it\nfrom matplotlib.patches import FancyBboxPatch\nax = plt.gca()\nax.add_patch(FancyBboxPatch((-0.05, .72),\n                            width=.66, height=.34, clip_on=False,\n                            boxstyle=\"square,pad=0\", zorder=3,\n                            facecolor='white', alpha=1.0,\n                            transform=plt.gca().transAxes))\n\nplt.text(-0.05, 1.02, \" Multiplot:     plt.subplot(...)\\n\",\n      horizontalalignment='left',\n      verticalalignment='top',\n      size='xx-large',\n      transform=ax.transAxes)\nplt.text(-0.05, 1.01, \"\\n\\n    Plot several plots at once \",\n      horizontalalignment='left',\n      verticalalignment='top',\n      size='large',\n      transform=ax.transAxes)\n\nax = plt.subplot(2, 2, 3)\nax.set_xticklabels([])\nax.set_yticklabels([])\n\nax = plt.subplot(2, 2, 4)\nax.set_xticklabels([])\nax.set_yticklabels([])\n\nplt.show()"
      ],
      "metadata": {
        "collapsed": false
      }
    }
  ],
  "nbformat": 4,
  "metadata": {
    "kernelspec": {
      "display_name": "Python 3",
      "language": "python",
      "name": "python3"
    },
    "language_info": {
      "mimetype": "text/x-python",
      "name": "python",
      "file_extension": ".py",
      "nbconvert_exporter": "python",
      "pygments_lexer": "ipython3",
      "codemirror_mode": {
        "version": 3,
        "name": "ipython"
      },
      "version": "3.5.4"
    }
  }
}