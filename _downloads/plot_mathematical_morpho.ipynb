{
  "nbformat_minor": 0,
  "cells": [
    {
      "cell_type": "code",
      "execution_count": null,
      "outputs": [],
      "source": [
        "%matplotlib inline"
      ],
      "metadata": {
        "collapsed": false
      }
    },
    {
      "cell_type": "markdown",
      "source": [
        "\n# Demo mathematical morphology\n\n\nA basic demo of binary opening and closing.\n\n"
      ],
      "metadata": {}
    },
    {
      "cell_type": "code",
      "execution_count": null,
      "outputs": [],
      "source": [
        "# Generate some binary data\nimport numpy as np\nnp.random.seed(0)\na = np.zeros((50, 50))\na[10:-10, 10:-10] = 1\na += 0.25 * np.random.standard_normal(a.shape)\nmask = a>=0.5\n\n# Apply mathematical morphology\nfrom scipy import ndimage\nopened_mask = ndimage.binary_opening(mask)\nclosed_mask = ndimage.binary_closing(opened_mask)\n\n# Plot\nfrom matplotlib import pyplot as plt\n\nplt.figure(figsize=(12, 3.5))\nplt.subplot(141)\nplt.imshow(a, cmap=plt.cm.gray)\nplt.axis('off')\nplt.title('a')\n\nplt.subplot(142)\nplt.imshow(mask, cmap=plt.cm.gray)\nplt.axis('off')\nplt.title('mask')\n\nplt.subplot(143)\nplt.imshow(opened_mask, cmap=plt.cm.gray)\nplt.axis('off')\nplt.title('opened_mask')\n\nplt.subplot(144)\nplt.imshow(closed_mask, cmap=plt.cm.gray)\nplt.title('closed_mask')\nplt.axis('off')\n\nplt.subplots_adjust(wspace=.05, left=.01, bottom=.01, right=.99, top=.99)\n\nplt.show()"
      ],
      "metadata": {
        "collapsed": false
      }
    }
  ],
  "nbformat": 4,
  "metadata": {
    "kernelspec": {
      "display_name": "Python 3",
      "language": "python",
      "name": "python3"
    },
    "language_info": {
      "mimetype": "text/x-python",
      "name": "python",
      "file_extension": ".py",
      "nbconvert_exporter": "python",
      "pygments_lexer": "ipython3",
      "codemirror_mode": {
        "version": 3,
        "name": "ipython"
      },
      "version": "3.5.4"
    }
  }
}