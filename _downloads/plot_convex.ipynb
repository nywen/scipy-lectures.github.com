{
  "nbformat_minor": 0,
  "cells": [
    {
      "cell_type": "code",
      "execution_count": null,
      "outputs": [],
      "source": [
        "%matplotlib inline"
      ],
      "metadata": {
        "collapsed": false
      }
    },
    {
      "cell_type": "markdown",
      "source": [
        "\nConvex function\n================\n\nA figure showing the definition of a convex function\n\n"
      ],
      "metadata": {}
    },
    {
      "cell_type": "code",
      "execution_count": null,
      "outputs": [],
      "source": [
        "import numpy as np\nimport pylab as pl\n\nx = np.linspace(-1, 2)\n\npl.figure(1, figsize=(3, 2.5))\npl.clf()\n\n# A convex function\npl.plot(x, x**2, linewidth=2)\npl.text(-.7, -.6**2, '$f$', size=20)\n\n# The tangent in one point\npl.plot(x, 2*x - 1)\npl.plot(1, 1, 'k+')\npl.text(.3, -.75, \"Tangent to $f$\", size=15)\npl.text(1, 1 - .5, 'C', size=15)\n\n# Convexity as barycenter\npl.plot([.35, 1.85], [.35**2, 1.85**2])\npl.plot([.35, 1.85], [.35**2, 1.85**2], 'k+')\npl.text(.35 - .2, .35**2 + .1, 'A', size=15)\npl.text(1.85 - .2, 1.85**2, 'B', size=15)\n\npl.ylim(ymin=-1)\npl.axis('off')\npl.tight_layout()\n\n# Convexity as barycenter\npl.figure(2, figsize=(3, 2.5))\npl.clf()\npl.plot(x, x**2 + np.exp(-5*(x - .5)**2), linewidth=2)\npl.text(-.7, -.6**2, '$f$', size=20)\n\npl.ylim(ymin=-1)\npl.axis('off')\npl.tight_layout()\npl.show()"
      ],
      "metadata": {
        "collapsed": false
      }
    }
  ],
  "nbformat": 4,
  "metadata": {
    "kernelspec": {
      "display_name": "Python 3",
      "language": "python",
      "name": "python3"
    },
    "language_info": {
      "mimetype": "text/x-python",
      "name": "python",
      "file_extension": ".py",
      "nbconvert_exporter": "python",
      "pygments_lexer": "ipython3",
      "codemirror_mode": {
        "version": 3,
        "name": "ipython"
      },
      "version": "3.5.4"
    }
  }
}