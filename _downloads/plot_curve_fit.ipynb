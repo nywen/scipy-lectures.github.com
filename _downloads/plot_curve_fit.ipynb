{
  "nbformat_minor": 0,
  "cells": [
    {
      "cell_type": "code",
      "execution_count": null,
      "outputs": [],
      "source": [
        "%matplotlib inline"
      ],
      "metadata": {
        "collapsed": false
      }
    },
    {
      "cell_type": "markdown",
      "source": [
        "\nCurve fitting\n=============\n\nA curve fitting example\n\n"
      ],
      "metadata": {}
    },
    {
      "cell_type": "code",
      "execution_count": null,
      "outputs": [],
      "source": [
        "import numpy as np\nfrom scipy import optimize\nimport pylab as pl\n\nnp.random.seed(0)\n\n# Our test function\ndef f(t, omega, phi):\n    return np.cos(omega * t + phi)\n\n# Our x and y data\nx = np.linspace(0, 3, 50)\ny = f(x, 1.5, 1) + .1*np.random.normal(size=50)\n\n# Fit the model: the parameters omega and phi can be found in the\n# `params` vector\nparams, params_cov = optimize.curve_fit(f, x, y)\n\n# plot the data and the fitted curve\nt = np.linspace(0, 3, 1000)\n\npl.figure(1)\npl.clf()\npl.plot(x, y, 'bx')\npl.plot(t, f(t, *params), 'r-')\npl.show()"
      ],
      "metadata": {
        "collapsed": false
      }
    }
  ],
  "nbformat": 4,
  "metadata": {
    "kernelspec": {
      "display_name": "Python 3",
      "language": "python",
      "name": "python3"
    },
    "language_info": {
      "mimetype": "text/x-python",
      "name": "python",
      "file_extension": ".py",
      "nbconvert_exporter": "python",
      "pygments_lexer": "ipython3",
      "codemirror_mode": {
        "version": 3,
        "name": "ipython"
      },
      "version": "3.5.4"
    }
  }
}