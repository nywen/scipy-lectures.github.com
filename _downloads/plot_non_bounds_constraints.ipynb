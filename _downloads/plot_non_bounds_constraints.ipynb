{
  "nbformat_minor": 0,
  "cells": [
    {
      "cell_type": "code",
      "execution_count": null,
      "outputs": [],
      "source": [
        "%matplotlib inline"
      ],
      "metadata": {
        "collapsed": false
      }
    },
    {
      "cell_type": "markdown",
      "source": [
        "\nOptimization with constraints\n================================\n\nAn example showing how to do optimization with general constraints using\nSLSQP and cobyla.\n\n"
      ],
      "metadata": {}
    },
    {
      "cell_type": "code",
      "execution_count": null,
      "outputs": [],
      "source": [
        "import numpy as np\nimport pylab as pl\nfrom scipy import optimize\n\nx, y = np.mgrid[-2.03:4.2:.04, -1.6:3.2:.04]\nx = x.T\ny = y.T\n\npl.figure(1, figsize=(3, 2.5))\npl.clf()\npl.axes([0, 0, 1, 1])\n\ncontours = pl.contour(np.sqrt((x - 3)**2 + (y - 2)**2),\n                    extent=[-2.03, 4.2, -1.6, 3.2],\n                    cmap=pl.cm.gnuplot)\npl.clabel(contours,\n        inline=1,\n        fmt='%1.1f',\n        fontsize=14)\npl.plot([-1.5,    0,  1.5,    0, -1.5],\n        [   0,  1.5,    0, -1.5,    0], 'k', linewidth=2)\npl.fill_between([ -1.5,    0,  1.5],\n                [    0, -1.5,    0],\n                [    0,  1.5,    0],\n                color='.8')\npl.axvline(0, color='k')\npl.axhline(0, color='k')\n\npl.text(-.9, 2.8, '$x_2$', size=20)\npl.text(3.6, -.6, '$x_1$', size=20)\npl.axis('tight')\npl.axis('off')\n\n# And now plot the optimization path\naccumulator = list()\n\ndef f(x):\n    # Store the list of function calls\n    accumulator.append(x)\n    return np.sqrt((x[0] - 3)**2 + (x[1] - 2)**2)\n\n\ndef constraint(x):\n    return np.atleast_1d(1.5 - np.sum(np.abs(x)))\n\noptimize.minimize(f, np.array([0, 0]), method=\"SLSQP\",\n                     constraints={\"fun\": constraint, \"type\": \"ineq\"})\n\naccumulated = np.array(accumulator)\npl.plot(accumulated[:, 0], accumulated[:, 1])\n\npl.show()"
      ],
      "metadata": {
        "collapsed": false
      }
    }
  ],
  "nbformat": 4,
  "metadata": {
    "kernelspec": {
      "display_name": "Python 3",
      "language": "python",
      "name": "python3"
    },
    "language_info": {
      "mimetype": "text/x-python",
      "name": "python",
      "file_extension": ".py",
      "nbconvert_exporter": "python",
      "pygments_lexer": "ipython3",
      "codemirror_mode": {
        "version": 3,
        "name": "ipython"
      },
      "version": "3.5.4"
    }
  }
}