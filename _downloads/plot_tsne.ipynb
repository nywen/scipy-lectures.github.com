{
  "nbformat_minor": 0,
  "cells": [
    {
      "cell_type": "code",
      "execution_count": null,
      "outputs": [],
      "source": [
        "%matplotlib inline"
      ],
      "metadata": {
        "collapsed": false
      }
    },
    {
      "cell_type": "markdown",
      "source": [
        "\n# tSNE to visualize digits\n\n\nHere we use :class:`sklearn.manifold.TSNE` to visualize the digits\ndatasets. Indeed, the digits are vectors in a 8*8 = 64 dimensional space.\nWe want to project them in 2D for visualization. tSNE is often a good\nsolution, as it groups and separates data points based on their local\nrelationship.\n\n\n"
      ],
      "metadata": {}
    },
    {
      "cell_type": "markdown",
      "source": [
        "Load the iris data\n\n"
      ],
      "metadata": {}
    },
    {
      "cell_type": "code",
      "execution_count": null,
      "outputs": [],
      "source": [
        "from sklearn import datasets\ndigits = datasets.load_digits()\n# Take the first 500 data points: it's hard to see 1500 points\nX = digits.data[:500]\ny = digits.target[:500]"
      ],
      "metadata": {
        "collapsed": false
      }
    },
    {
      "cell_type": "markdown",
      "source": [
        "Fit and transform with a TSNE\n\n"
      ],
      "metadata": {}
    },
    {
      "cell_type": "code",
      "execution_count": null,
      "outputs": [],
      "source": [
        "from sklearn.manifold import TSNE\ntsne = TSNE(n_components=2, random_state=0)"
      ],
      "metadata": {
        "collapsed": false
      }
    },
    {
      "cell_type": "markdown",
      "source": [
        "Project the data in 2D\n\n"
      ],
      "metadata": {}
    },
    {
      "cell_type": "code",
      "execution_count": null,
      "outputs": [],
      "source": [
        "X_2d = tsne.fit_transform(X)"
      ],
      "metadata": {
        "collapsed": false
      }
    },
    {
      "cell_type": "markdown",
      "source": [
        "Visualize the data\n\n"
      ],
      "metadata": {}
    },
    {
      "cell_type": "code",
      "execution_count": null,
      "outputs": [],
      "source": [
        "target_ids = range(len(digits.target_names))\n\nfrom matplotlib import pyplot as plt\nplt.figure(figsize=(6, 5))\ncolors = 'r', 'g', 'b', 'c', 'm', 'y', 'k', 'w', 'orange', 'purple'\nfor i, c, label in zip(target_ids, colors, digits.target_names):\n    plt.scatter(X_2d[y == i, 0], X_2d[y == i, 1], c=c, label=label)\nplt.legend()\nplt.show()"
      ],
      "metadata": {
        "collapsed": false
      }
    }
  ],
  "nbformat": 4,
  "metadata": {
    "kernelspec": {
      "display_name": "Python 3",
      "language": "python",
      "name": "python3"
    },
    "language_info": {
      "mimetype": "text/x-python",
      "name": "python",
      "file_extension": ".py",
      "nbconvert_exporter": "python",
      "pygments_lexer": "ipython3",
      "codemirror_mode": {
        "version": 3,
        "name": "ipython"
      },
      "version": "3.5.4"
    }
  }
}