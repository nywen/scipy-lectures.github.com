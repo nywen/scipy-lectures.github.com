{
  "nbformat_minor": 0,
  "cells": [
    {
      "cell_type": "code",
      "execution_count": null,
      "outputs": [],
      "source": [
        "%matplotlib inline"
      ],
      "metadata": {
        "collapsed": false
      }
    },
    {
      "cell_type": "markdown",
      "source": [
        "\nAlternating optimization\n=========================\n\nThe challenge here is that Hessian of the problem is a very\nill-conditioned matrix. This can easily be seen, as the Hessian of the\nfirst term in simply 2*np.dot(K.T, K). Thus the conditioning of the\nproblem can be judged from looking at the conditioning of K.\n\n"
      ],
      "metadata": {}
    },
    {
      "cell_type": "code",
      "execution_count": null,
      "outputs": [],
      "source": [
        "import time\n\nimport numpy as np\nfrom scipy import optimize\nimport pylab as pl\n\nnp.random.seed(0)\n\nK = np.random.normal(size=(100, 100))\n\ndef f(x):\n    return np.sum((np.dot(K, x - 1))**2) + np.sum(x**2)**2\n\n\ndef f_prime(x):\n    return 2*np.dot(np.dot(K.T, K), x - 1) + 4*np.sum(x**2)*x\n\n\ndef hessian(x):\n    H = 2*np.dot(K.T, K) + 4*2*x*x[:, np.newaxis]\n    return H + 4*np.eye(H.shape[0])*np.sum(x**2)"
      ],
      "metadata": {
        "collapsed": false
      }
    },
    {
      "cell_type": "markdown",
      "source": [
        "Some pretty plotting\n\n"
      ],
      "metadata": {}
    },
    {
      "cell_type": "code",
      "execution_count": null,
      "outputs": [],
      "source": [
        "pl.figure(1)\npl.clf()\nZ = X, Y = np.mgrid[-1.5:1.5:100j, -1.1:1.1:100j]\n# Complete in the additional dimensions with zeros\nZ = np.reshape(Z, (2, -1)).copy()\nZ.resize((100, Z.shape[-1]))\nZ = np.apply_along_axis(f, 0, Z)\nZ = np.reshape(Z, X.shape)\npl.imshow(Z.T, cmap=pl.cm.gray_r, extent=[-1.5, 1.5, -1.1, 1.1],\n          origin='lower')\npl.contour(X, Y, Z, cmap=pl.cm.gnuplot)\n\n# A reference but slow solution:\nt0 = time.time()\nx_ref = optimize.minimize(f, K[0], method=\"Powell\").x\nprint('     Powell: time %.2fs' % (time.time() - t0))\nf_ref = f(x_ref)\n\n# Compare different approaches\nt0 = time.time()\nx_bfgs = optimize.minimize(f, K[0], method=\"BFGS\").x\nprint('       BFGS: time %.2fs, x error %.2f, f error %.2f' % (time.time() - t0,\n    np.sqrt(np.sum((x_bfgs - x_ref)**2)), f(x_bfgs) - f_ref))\n\nt0 = time.time()\nx_l_bfgs = optimize.minimize(f, K[0], method=\"L-BFGS-B\").x\nprint('     L-BFGS: time %.2fs, x error %.2f, f error %.2f' % (time.time() - t0,\n    np.sqrt(np.sum((x_l_bfgs - x_ref)**2)), f(x_l_bfgs) - f_ref))\n\n\nt0 = time.time()\nx_bfgs = optimize.minimize(f, K[0], jac=f_prime, method=\"BFGS\").x\nprint(\"  BFGS w f': time %.2fs, x error %.2f, f error %.2f\" % (\n    time.time() - t0, np.sqrt(np.sum((x_bfgs - x_ref)**2)),\n    f(x_bfgs) - f_ref))\n\nt0 = time.time()\nx_l_bfgs = optimize.minimize(f, K[0], jac=f_prime, method=\"L-BFGS-B\").x\nprint(\"L-BFGS w f': time %.2fs, x error %.2f, f error %.2f\" % (\n    time.time() - t0, np.sqrt(np.sum((x_l_bfgs - x_ref)**2)),\n    f(x_l_bfgs) - f_ref))\n\nt0 = time.time()\nx_newton = optimize.minimize(f, K[0], jac=f_prime, hess=hessian, method=\"Newton-CG\").x\nprint(\"     Newton: time %.2fs, x error %.2f, f error %.2f\" % (\n    time.time() - t0, np.sqrt(np.sum((x_newton - x_ref)**2)),\n    f(x_newton) - f_ref))\n\npl.show()"
      ],
      "metadata": {
        "collapsed": false
      }
    }
  ],
  "nbformat": 4,
  "metadata": {
    "kernelspec": {
      "display_name": "Python 3",
      "language": "python",
      "name": "python3"
    },
    "language_info": {
      "mimetype": "text/x-python",
      "name": "python",
      "file_extension": ".py",
      "nbconvert_exporter": "python",
      "pygments_lexer": "ipython3",
      "codemirror_mode": {
        "version": 3,
        "name": "ipython"
      },
      "version": "3.5.4"
    }
  }
}