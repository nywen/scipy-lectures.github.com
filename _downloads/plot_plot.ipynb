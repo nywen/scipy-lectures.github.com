{
  "nbformat_minor": 0,
  "cells": [
    {
      "cell_type": "code",
      "execution_count": null,
      "outputs": [],
      "source": [
        "%matplotlib inline"
      ],
      "metadata": {
        "collapsed": false
      }
    },
    {
      "cell_type": "markdown",
      "source": [
        "\nPlot and filled plots\n=====================\n\nSimple example of plots and filling between them with matplotlib.\n\n"
      ],
      "metadata": {}
    },
    {
      "cell_type": "code",
      "execution_count": null,
      "outputs": [],
      "source": [
        "import numpy as np\nimport matplotlib.pyplot as plt\n\nn = 256\nX = np.linspace(-np.pi, np.pi, n, endpoint=True)\nY = np.sin(2 * X)\n\nplt.axes([0.025, 0.025, 0.95, 0.95])\n\nplt.plot(X, Y + 1, color='blue', alpha=1.00)\nplt.fill_between(X, 1, Y + 1, color='blue', alpha=.25)\n\nplt.plot(X, Y - 1, color='blue', alpha=1.00)\nplt.fill_between(X, -1, Y - 1, (Y - 1) > -1, color='blue', alpha=.25)\nplt.fill_between(X, -1, Y - 1, (Y - 1) < -1, color='red',  alpha=.25)\n\nplt.xlim(-np.pi, np.pi)\nplt.xticks(())\nplt.ylim(-2.5, 2.5)\nplt.yticks(())\n\nplt.show()"
      ],
      "metadata": {
        "collapsed": false
      }
    }
  ],
  "nbformat": 4,
  "metadata": {
    "kernelspec": {
      "display_name": "Python 3",
      "language": "python",
      "name": "python3"
    },
    "language_info": {
      "mimetype": "text/x-python",
      "name": "python",
      "file_extension": ".py",
      "nbconvert_exporter": "python",
      "pygments_lexer": "ipython3",
      "codemirror_mode": {
        "version": 3,
        "name": "ipython"
      },
      "version": "3.5.4"
    }
  }
}