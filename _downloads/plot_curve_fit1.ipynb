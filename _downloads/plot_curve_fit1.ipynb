{
  "nbformat_minor": 0,
  "cells": [
    {
      "cell_type": "code",
      "execution_count": null,
      "outputs": [],
      "source": [
        "%matplotlib inline"
      ],
      "metadata": {
        "collapsed": false
      }
    },
    {
      "cell_type": "markdown",
      "source": [
        "\n# Curve fitting\n\n\nDemos a simple curve fitting\n\n"
      ],
      "metadata": {}
    },
    {
      "cell_type": "markdown",
      "source": [
        "First generate some data\n\n"
      ],
      "metadata": {}
    },
    {
      "cell_type": "code",
      "execution_count": null,
      "outputs": [],
      "source": [
        "import numpy as np\n\n# Seed the random number generator for reproducibility\nnp.random.seed(0)\n\nx_data = np.linspace(-5, 5, num=50)\ny_data = 2.9 * np.sin(1.5 * x_data) + np.random.normal(size=50)\n\n# And plot it\nimport matplotlib.pyplot as plt\nplt.figure(figsize=(6, 4))\nplt.scatter(x_data, y_data)"
      ],
      "metadata": {
        "collapsed": false
      }
    },
    {
      "cell_type": "markdown",
      "source": [
        "Now fit a simple sine function to the data\n\n"
      ],
      "metadata": {}
    },
    {
      "cell_type": "code",
      "execution_count": null,
      "outputs": [],
      "source": [
        "from scipy import optimize\n\ndef test_func(x, a, b):\n    return a * np.sin(b * x)\n\nparams, params_covariance = optimize.curve_fit(test_func, x_data, y_data,\n                                               p0=[2, 2])\n\nprint(params)"
      ],
      "metadata": {
        "collapsed": false
      }
    },
    {
      "cell_type": "markdown",
      "source": [
        "And plot the resulting curve on the data\n\n"
      ],
      "metadata": {}
    },
    {
      "cell_type": "code",
      "execution_count": null,
      "outputs": [],
      "source": [
        "plt.figure(figsize=(6, 4))\nplt.scatter(x_data, y_data, label='Data')\nplt.plot(x_data, test_func(x_data, params[0], params[1]),\n         label='Fitted function')\n\nplt.legend(loc='best')\n\nplt.show()"
      ],
      "metadata": {
        "collapsed": false
      }
    }
  ],
  "nbformat": 4,
  "metadata": {
    "kernelspec": {
      "display_name": "Python 3",
      "language": "python",
      "name": "python3"
    },
    "language_info": {
      "mimetype": "text/x-python",
      "name": "python",
      "file_extension": ".py",
      "nbconvert_exporter": "python",
      "pygments_lexer": "ipython3",
      "codemirror_mode": {
        "version": 3,
        "name": "ipython"
      },
      "version": "3.5.4"
    }
  }
}