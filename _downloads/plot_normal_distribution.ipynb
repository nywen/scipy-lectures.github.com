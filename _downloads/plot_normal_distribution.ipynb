{
  "nbformat_minor": 0,
  "cells": [
    {
      "cell_type": "code",
      "execution_count": null,
      "outputs": [],
      "source": [
        "%matplotlib inline"
      ],
      "metadata": {
        "collapsed": false
      }
    },
    {
      "cell_type": "markdown",
      "source": [
        "\n=======================================\nNormal distribution: histogram and PDF\n=======================================\n\nExplore the normal distribution: a histogram built from samples and the\nPDF (probability density function).\n\n"
      ],
      "metadata": {}
    },
    {
      "cell_type": "code",
      "execution_count": null,
      "outputs": [],
      "source": [
        "import numpy as np\n\n# Sample from a normal distribution using numpy's random number generator\nsamples = np.random.normal(size=10000)\n\n# Compute a histogram of the sample\nbins = np.linspace(-5, 5, 30)\nhistogram, bins = np.histogram(samples, bins=bins, normed=True)\n\nbin_centers = 0.5*(bins[1:] + bins[:-1])\n\n# Compute the PDF on the bin centers from scipy distribution object\nfrom scipy import stats\npdf = stats.norm.pdf(bin_centers)\n\nfrom matplotlib import pyplot as plt\nplt.figure(figsize=(6, 4))\nplt.plot(bin_centers, histogram, label=\"Histogram of samples\")\nplt.plot(bin_centers, pdf, label=\"PDF\")\nplt.legend()\nplt.show()"
      ],
      "metadata": {
        "collapsed": false
      }
    }
  ],
  "nbformat": 4,
  "metadata": {
    "kernelspec": {
      "display_name": "Python 3",
      "language": "python",
      "name": "python3"
    },
    "language_info": {
      "mimetype": "text/x-python",
      "name": "python",
      "file_extension": ".py",
      "nbconvert_exporter": "python",
      "pygments_lexer": "ipython3",
      "codemirror_mode": {
        "version": 3,
        "name": "ipython"
      },
      "version": "3.5.4"
    }
  }
}