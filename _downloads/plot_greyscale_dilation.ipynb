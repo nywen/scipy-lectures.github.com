{
  "nbformat_minor": 0,
  "cells": [
    {
      "cell_type": "code",
      "execution_count": null,
      "outputs": [],
      "source": [
        "%matplotlib inline"
      ],
      "metadata": {
        "collapsed": false
      }
    },
    {
      "cell_type": "markdown",
      "source": [
        "\nGreyscale dilation\n====================\n\nThis example illustrates greyscale mathematical morphology.\n\n"
      ],
      "metadata": {}
    },
    {
      "cell_type": "code",
      "execution_count": null,
      "outputs": [],
      "source": [
        "import numpy as np\nfrom scipy import ndimage\nimport matplotlib.pyplot as plt\n\nim = np.zeros((64, 64))\nnp.random.seed(2)\nx, y = (63*np.random.random((2, 8))).astype(np.int)\nim[x, y] = np.arange(8)\n\nbigger_points = ndimage.grey_dilation(im, size=(5, 5), structure=np.ones((5, 5)))\n\nsquare = np.zeros((16, 16))\nsquare[4:-4, 4:-4] = 1\ndist = ndimage.distance_transform_bf(square)\ndilate_dist = ndimage.grey_dilation(dist, size=(3, 3), \\\n        structure=np.ones((3, 3)))\n\nplt.figure(figsize=(12.5, 3))\nplt.subplot(141)\nplt.imshow(im, interpolation='nearest', cmap=plt.cm.spectral)\nplt.axis('off')\nplt.subplot(142)\nplt.imshow(bigger_points, interpolation='nearest', cmap=plt.cm.spectral)\nplt.axis('off')\nplt.subplot(143)\nplt.imshow(dist, interpolation='nearest', cmap=plt.cm.spectral)\nplt.axis('off')\nplt.subplot(144)\nplt.imshow(dilate_dist, interpolation='nearest', cmap=plt.cm.spectral)\nplt.axis('off')\n\nplt.subplots_adjust(wspace=0, hspace=0.02, top=0.99, bottom=0.01, left=0.01, right=0.99)\nplt.show()"
      ],
      "metadata": {
        "collapsed": false
      }
    }
  ],
  "nbformat": 4,
  "metadata": {
    "kernelspec": {
      "display_name": "Python 3",
      "language": "python",
      "name": "python3"
    },
    "language_info": {
      "mimetype": "text/x-python",
      "name": "python",
      "file_extension": ".py",
      "nbconvert_exporter": "python",
      "pygments_lexer": "ipython3",
      "codemirror_mode": {
        "version": 3,
        "name": "ipython"
      },
      "version": "3.5.4"
    }
  }
}