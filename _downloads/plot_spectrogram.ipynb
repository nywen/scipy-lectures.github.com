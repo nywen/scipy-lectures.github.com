{
  "nbformat_minor": 0,
  "cells": [
    {
      "cell_type": "code",
      "execution_count": null,
      "outputs": [],
      "source": [
        "%matplotlib inline"
      ],
      "metadata": {
        "collapsed": false
      }
    },
    {
      "cell_type": "markdown",
      "source": [
        "\n======================================\nSpectrogram, power spectral density\n======================================\n\nDemo spectrogram and power spectral density on a frequency chirp.\n\n"
      ],
      "metadata": {}
    },
    {
      "cell_type": "code",
      "execution_count": null,
      "outputs": [],
      "source": [
        "import numpy as np\nfrom matplotlib import pyplot as plt"
      ],
      "metadata": {
        "collapsed": false
      }
    },
    {
      "cell_type": "markdown",
      "source": [
        "Generate a chirp signal\n###########################################################\n\n"
      ],
      "metadata": {}
    },
    {
      "cell_type": "code",
      "execution_count": null,
      "outputs": [],
      "source": [
        "# Seed the random number generator\nnp.random.seed(0)\n\ntime_step = .01\ntime_vec = np.arange(0, 70, time_step)\n\n# A signal with a small frequency chirp\nsig = np.sin(0.5 * np.pi * time_vec * (1 + .1 * time_vec))\n\nplt.figure(figsize=(8, 5))\nplt.plot(time_vec, sig)"
      ],
      "metadata": {
        "collapsed": false
      }
    },
    {
      "cell_type": "markdown",
      "source": [
        "Compute and plot the spectrogram\n###########################################################\n\n The spectrum of the signal on consecutive time windows\n\n"
      ],
      "metadata": {}
    },
    {
      "cell_type": "code",
      "execution_count": null,
      "outputs": [],
      "source": [
        "from scipy import signal\nfreqs, times, spectrogram = signal.spectrogram(sig)\n\nplt.figure(figsize=(5, 4))\nplt.imshow(spectrogram, aspect='auto', cmap='hot_r', origin='lower')\nplt.title('Spectrogram')\nplt.ylabel('Frequency band')\nplt.xlabel('Time window')\nplt.tight_layout()"
      ],
      "metadata": {
        "collapsed": false
      }
    },
    {
      "cell_type": "markdown",
      "source": [
        "Compute and plot the power spectral density (PSD)\n###########################################################\n\n The power of the signal per frequency band\n\n"
      ],
      "metadata": {}
    },
    {
      "cell_type": "code",
      "execution_count": null,
      "outputs": [],
      "source": [
        "freqs, psd = signal.welch(sig)\n\nplt.figure(figsize=(5, 4))\nplt.semilogx(freqs, psd)\nplt.title('PSD: power spectral density')\nplt.xlabel('Frequency')\nplt.ylabel('Power')\nplt.tight_layout()"
      ],
      "metadata": {
        "collapsed": false
      }
    },
    {
      "cell_type": "code",
      "execution_count": null,
      "outputs": [],
      "source": [
        "plt.show()"
      ],
      "metadata": {
        "collapsed": false
      }
    }
  ],
  "nbformat": 4,
  "metadata": {
    "kernelspec": {
      "display_name": "Python 3",
      "language": "python",
      "name": "python3"
    },
    "language_info": {
      "mimetype": "text/x-python",
      "name": "python",
      "file_extension": ".py",
      "nbconvert_exporter": "python",
      "pygments_lexer": "ipython3",
      "codemirror_mode": {
        "version": 3,
        "name": "ipython"
      },
      "version": "3.5.4"
    }
  }
}