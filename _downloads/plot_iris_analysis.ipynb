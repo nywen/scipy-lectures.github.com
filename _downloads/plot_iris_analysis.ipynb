{
  "nbformat_minor": 0,
  "cells": [
    {
      "cell_type": "code",
      "execution_count": null,
      "outputs": [],
      "source": [
        "%matplotlib inline"
      ],
      "metadata": {
        "collapsed": false
      }
    },
    {
      "cell_type": "markdown",
      "source": [
        "\nAnalysis of Iris petal and sepal sizes\n=======================================\n\nIlustrate an analysis on a real dataset:\n\n- Visualizing the data to formulate intuitions\n- Fitting of a linear model\n- Hypothesis test of the effect of a categorical variable in the presence\n  of a continuous confound\n\n\n"
      ],
      "metadata": {}
    },
    {
      "cell_type": "code",
      "execution_count": null,
      "outputs": [],
      "source": [
        "import matplotlib.pyplot as plt\n\nimport pandas\nfrom pandas.tools import plotting\n\nfrom statsmodels.formula.api import ols\n\n# Load the data\ndata = pandas.read_csv('iris.csv')"
      ],
      "metadata": {
        "collapsed": false
      }
    },
    {
      "cell_type": "markdown",
      "source": [
        "Plot a scatter matrix\n\n"
      ],
      "metadata": {}
    },
    {
      "cell_type": "code",
      "execution_count": null,
      "outputs": [],
      "source": [
        "# Express the names as categories\ncategories = pandas.Categorical(data['name'])\n\n# The parameter 'c' is passed to plt.scatter and will control the color\nplotting.scatter_matrix(data, c=categories.labels, marker='o')\n\nfig = plt.gcf()\nfig.suptitle(\"blue: setosa, green: versicolor, red: virginica\", size=13)"
      ],
      "metadata": {
        "collapsed": false
      }
    },
    {
      "cell_type": "markdown",
      "source": [
        "Statistical analysis\n\n"
      ],
      "metadata": {}
    },
    {
      "cell_type": "code",
      "execution_count": null,
      "outputs": [],
      "source": [
        "# Let us try to explain the sepal length as a function of the petal\n# width and the category of iris\n\nmodel = ols('sepal_width ~ name + petal_length', data).fit()\nprint(model.summary())\n\n# Now formulate a \"contrast\", to test if the offset for versicolor and\n# virginica are identical\n\nprint('Testing the difference between effect of versicolor and virginica')\nprint(model.f_test([0, 1, -1, 0]))\nplt.show()"
      ],
      "metadata": {
        "collapsed": false
      }
    }
  ],
  "nbformat": 4,
  "metadata": {
    "kernelspec": {
      "display_name": "Python 3",
      "language": "python",
      "name": "python3"
    },
    "language_info": {
      "mimetype": "text/x-python",
      "name": "python",
      "file_extension": ".py",
      "nbconvert_exporter": "python",
      "pygments_lexer": "ipython3",
      "codemirror_mode": {
        "version": 3,
        "name": "ipython"
      },
      "version": "3.5.4"
    }
  }
}