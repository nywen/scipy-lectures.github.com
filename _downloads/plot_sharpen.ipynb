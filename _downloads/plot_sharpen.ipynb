{
  "nbformat_minor": 0,
  "cells": [
    {
      "cell_type": "code",
      "execution_count": null,
      "outputs": [],
      "source": [
        "%matplotlib inline"
      ],
      "metadata": {
        "collapsed": false
      }
    },
    {
      "cell_type": "markdown",
      "source": [
        "\nImage sharpening\n=================\n\nThis example shows how to sharpen an image in noiseless situation by\napplying the filter inverse to the blur.\n\n"
      ],
      "metadata": {}
    },
    {
      "cell_type": "code",
      "execution_count": null,
      "outputs": [],
      "source": [
        "import scipy\nfrom scipy import ndimage\nimport matplotlib.pyplot as plt\n\nf = scipy.misc.face(gray=True).astype(float)\nblurred_f = ndimage.gaussian_filter(f, 3)\n\nfilter_blurred_f = ndimage.gaussian_filter(blurred_f, 1)\n\nalpha = 30\nsharpened = blurred_f + alpha * (blurred_f - filter_blurred_f)\n\nplt.figure(figsize=(12, 4))\n\nplt.subplot(131)\nplt.imshow(f, cmap=plt.cm.gray)\nplt.axis('off')\nplt.subplot(132)\nplt.imshow(blurred_f, cmap=plt.cm.gray)\nplt.axis('off')\nplt.subplot(133)\nplt.imshow(sharpened, cmap=plt.cm.gray)\nplt.axis('off')\n\nplt.tight_layout()\nplt.show()"
      ],
      "metadata": {
        "collapsed": false
      }
    }
  ],
  "nbformat": 4,
  "metadata": {
    "kernelspec": {
      "display_name": "Python 3",
      "language": "python",
      "name": "python3"
    },
    "language_info": {
      "mimetype": "text/x-python",
      "name": "python",
      "file_extension": ".py",
      "nbconvert_exporter": "python",
      "pygments_lexer": "ipython3",
      "codemirror_mode": {
        "version": 3,
        "name": "ipython"
      },
      "version": "3.5.4"
    }
  }
}