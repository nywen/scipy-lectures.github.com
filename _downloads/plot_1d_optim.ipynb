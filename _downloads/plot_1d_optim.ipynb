{
  "nbformat_minor": 0,
  "cells": [
    {
      "cell_type": "code",
      "execution_count": null,
      "outputs": [],
      "source": [
        "%matplotlib inline"
      ],
      "metadata": {
        "collapsed": false
      }
    },
    {
      "cell_type": "markdown",
      "source": [
        "\nBrent's method\n================\n\nIllustration of 1D optimization: Brent's method\n\n"
      ],
      "metadata": {}
    },
    {
      "cell_type": "code",
      "execution_count": null,
      "outputs": [],
      "source": [
        "import numpy as np\nimport pylab as pl\nfrom scipy import optimize\n\nx = np.linspace(-1, 3, 100)\nx_0 = np.exp(-1)\n\ndef f(x):\n    return (x - x_0)**2 + epsilon*np.exp(-5*(x - .5 - x_0)**2)\n\nfor epsilon in (0, 1):\n    pl.figure(figsize=(3, 2.5))\n    pl.axes([0, 0, 1, 1])\n\n    # A convex function\n    pl.plot(x, f(x), linewidth=2)\n\n    # Apply brent method. To have access to the iteration, do this in an\n    # artificial way: allow the algorithm to iter only once\n    all_x = list()\n    all_y = list()\n    for iter in range(30):\n        result = optimize.minimize_scalar(f, bracket=(-5, 2.9, 4.5), method=\"Brent\",\n                    options={\"maxiter\": iter}, tol=np.finfo(1.).eps)\n        if result.success:\n            print('Converged at ', iter)\n            break\n\n        this_x = result.x\n        all_x.append(this_x)\n        all_y.append(f(this_x))\n        if iter < 6:\n            pl.text(this_x - .05*np.sign(this_x) - .05,\n                    f(this_x) + 1.2*(.3 - iter % 2), iter + 1,\n                    size=12)\n\n    pl.plot(all_x[:10], all_y[:10], 'k+', markersize=12, markeredgewidth=2)\n\n    pl.plot(all_x[-1], all_y[-1], 'rx', markersize=12)\n    pl.axis('off')\n    pl.ylim(ymin=-1, ymax=8)\n\n    pl.figure(figsize=(4, 3))\n    pl.semilogy(np.abs(all_y - all_y[-1]), linewidth=2)\n    pl.ylabel('Error on f(x)')\n    pl.xlabel('Iteration')\n    pl.tight_layout()\n\npl.show()"
      ],
      "metadata": {
        "collapsed": false
      }
    }
  ],
  "nbformat": 4,
  "metadata": {
    "kernelspec": {
      "display_name": "Python 3",
      "language": "python",
      "name": "python3"
    },
    "language_info": {
      "mimetype": "text/x-python",
      "name": "python",
      "file_extension": ".py",
      "nbconvert_exporter": "python",
      "pygments_lexer": "ipython3",
      "codemirror_mode": {
        "version": 3,
        "name": "ipython"
      },
      "version": "3.5.4"
    }
  }
}