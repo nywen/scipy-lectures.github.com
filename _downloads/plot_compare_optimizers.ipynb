{
  "nbformat_minor": 0,
  "cells": [
    {
      "cell_type": "code",
      "execution_count": null,
      "outputs": [],
      "source": [
        "%matplotlib inline"
      ],
      "metadata": {
        "collapsed": false
      }
    },
    {
      "cell_type": "markdown",
      "source": [
        "\nPlotting the comparison of optimizers\n======================================\n\nPlots the results from the comparison of optimizers.\n\n\n"
      ],
      "metadata": {}
    },
    {
      "cell_type": "code",
      "execution_count": null,
      "outputs": [],
      "source": [
        "import pickle\nimport sys\n\nimport numpy as np\nimport pylab as pl\n\nresults = pickle.load(open(\n    'helper/compare_optimizers_py%s.pkl' % sys.version_info[0],\n    'rb'))\nn_methods = len(list(results.values())[0]['Rosenbrock  '])\nn_dims = len(results)\n\nsymbols = 'o>*Ds'\n\npl.figure(1, figsize=(10, 4))\npl.clf()\n\ncolors = pl.cm.Spectral(np.linspace(0, 1, n_dims))[:, :3]\n\nmethod_names = list(list(results.values())[0]['Rosenbrock  '].keys())\nmethod_names.sort(key=lambda x: x[::-1], reverse=True)\n\nfor n_dim_index, ((n_dim, n_dim_bench), color) in enumerate(\n            zip(sorted(results.items()), colors)):\n    for (cost_name, cost_bench), symbol in zip(sorted(n_dim_bench.items()),\n                    symbols):\n        for method_index, method_name, in enumerate(method_names):\n            this_bench = cost_bench[method_name]\n            bench = np.mean(this_bench)\n            pl.semilogy([method_index + .1*n_dim_index, ], [bench, ],\n                    marker=symbol, color=color)\n\n# Create a legend for the problem type\nfor cost_name, symbol in zip(sorted(n_dim_bench.keys()),\n            symbols):\n    pl.semilogy([-10, ], [0, ], symbol, color='.5',\n            label=cost_name)\n\npl.xticks(np.arange(n_methods), method_names, size=11)\npl.xlim(-.2, n_methods - .5)\npl.legend(loc='best', numpoints=1, handletextpad=0, prop=dict(size=12),\n          frameon=False)\npl.ylabel('# function calls (a.u.)')\n\n# Create a second legend for the problem dimensionality\npl.twinx()\n\nfor n_dim, color in zip(sorted(results.keys()), colors):\n    pl.plot([-10, ], [0, ], 'o', color=color,\n            label='# dim: %i' % n_dim)\npl.legend(loc=(.47, .07), numpoints=1, handletextpad=0, prop=dict(size=12),\n          frameon=False, ncol=2)\npl.xlim(-.2, n_methods - .5)\n\npl.xticks(np.arange(n_methods), method_names)\npl.yticks(())\n\npl.tight_layout()\npl.show()"
      ],
      "metadata": {
        "collapsed": false
      }
    }
  ],
  "nbformat": 4,
  "metadata": {
    "kernelspec": {
      "display_name": "Python 3",
      "language": "python",
      "name": "python3"
    },
    "language_info": {
      "mimetype": "text/x-python",
      "name": "python",
      "file_extension": ".py",
      "nbconvert_exporter": "python",
      "pygments_lexer": "ipython3",
      "codemirror_mode": {
        "version": 3,
        "name": "ipython"
      },
      "version": "3.5.4"
    }
  }
}