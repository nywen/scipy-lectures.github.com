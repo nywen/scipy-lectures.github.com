{
  "nbformat_minor": 0,
  "cells": [
    {
      "cell_type": "code",
      "execution_count": null,
      "outputs": [],
      "source": [
        "%matplotlib inline"
      ],
      "metadata": {
        "collapsed": false
      }
    },
    {
      "cell_type": "markdown",
      "source": [
        "\nIntegers can overflow\n======================\n\nAn illustration of overflow problem arising when working with integers\n\n"
      ],
      "metadata": {}
    },
    {
      "cell_type": "code",
      "execution_count": null,
      "outputs": [],
      "source": [
        "import matplotlib.pyplot as plt\nfrom skimage import data\n\ncamera = data.camera()\ncamera_multiply = 3 * camera\n\nplt.figure(figsize=(8, 4))\nplt.subplot(121)\nplt.imshow(camera, cmap='gray', interpolation='nearest')\nplt.axis('off')\nplt.subplot(122)\nplt.imshow(camera_multiply, cmap='gray', interpolation='nearest')\nplt.axis('off')\n\nplt.tight_layout()\nplt.show()"
      ],
      "metadata": {
        "collapsed": false
      }
    }
  ],
  "nbformat": 4,
  "metadata": {
    "kernelspec": {
      "display_name": "Python 3",
      "language": "python",
      "name": "python3"
    },
    "language_info": {
      "mimetype": "text/x-python",
      "name": "python",
      "file_extension": ".py",
      "nbconvert_exporter": "python",
      "pygments_lexer": "ipython3",
      "codemirror_mode": {
        "version": 3,
        "name": "ipython"
      },
      "version": "3.5.4"
    }
  }
}