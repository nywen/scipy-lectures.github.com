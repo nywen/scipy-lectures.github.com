{
  "nbformat_minor": 0,
  "cells": [
    {
      "cell_type": "code",
      "execution_count": null,
      "outputs": [],
      "source": [
        "%matplotlib inline"
      ],
      "metadata": {
        "collapsed": false
      }
    },
    {
      "cell_type": "markdown",
      "source": [
        "\nExample: Masked statistics\n==========================\n\nPlot a masked statistics\n\n\n"
      ],
      "metadata": {}
    },
    {
      "cell_type": "code",
      "execution_count": null,
      "outputs": [],
      "source": [
        "import numpy as np\nimport matplotlib.pyplot as plt\n\ndata = np.loadtxt('../../../../data/populations.txt')\npopulations = np.ma.masked_array(data[:,1:])\nyear = data[:, 0]\n\nbad_years = (((year >= 1903) & (year <= 1910))\n            | ((year >= 1917) & (year <= 1918)))\npopulations[bad_years, 0] = np.ma.masked\npopulations[bad_years, 1] = np.ma.masked\n\nplt.plot(year, populations, 'o-') \nplt.show()"
      ],
      "metadata": {
        "collapsed": false
      }
    }
  ],
  "nbformat": 4,
  "metadata": {
    "kernelspec": {
      "display_name": "Python 3",
      "language": "python",
      "name": "python3"
    },
    "language_info": {
      "mimetype": "text/x-python",
      "name": "python",
      "file_extension": ".py",
      "nbconvert_exporter": "python",
      "pygments_lexer": "ipython3",
      "codemirror_mode": {
        "version": 3,
        "name": "ipython"
      },
      "version": "3.5.4"
    }
  }
}