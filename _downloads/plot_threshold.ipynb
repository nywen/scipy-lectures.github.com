{
  "nbformat_minor": 0,
  "cells": [
    {
      "cell_type": "code",
      "execution_count": null,
      "outputs": [],
      "source": [
        "%matplotlib inline"
      ],
      "metadata": {
        "collapsed": false
      }
    },
    {
      "cell_type": "markdown",
      "source": [
        "\nOtsu thresholding\n==================\n\nThis example illustrates automatic Otsu thresholding.\n\n"
      ],
      "metadata": {}
    },
    {
      "cell_type": "code",
      "execution_count": null,
      "outputs": [],
      "source": [
        "import matplotlib.pyplot as plt\nfrom skimage import data\nfrom skimage import filters\nfrom skimage import exposure\n\ncamera = data.camera()\nval = filters.threshold_otsu(camera)\n\nhist, bins_center = exposure.histogram(camera)\n\nplt.figure(figsize=(9, 4))\nplt.subplot(131)\nplt.imshow(camera, cmap='gray', interpolation='nearest')\nplt.axis('off')\nplt.subplot(132)\nplt.imshow(camera < val, cmap='gray', interpolation='nearest')\nplt.axis('off')\nplt.subplot(133)\nplt.plot(bins_center, hist, lw=2)\nplt.axvline(val, color='k', ls='--')\n\nplt.tight_layout()\nplt.show()"
      ],
      "metadata": {
        "collapsed": false
      }
    }
  ],
  "nbformat": 4,
  "metadata": {
    "kernelspec": {
      "display_name": "Python 3",
      "language": "python",
      "name": "python3"
    },
    "language_info": {
      "mimetype": "text/x-python",
      "name": "python",
      "file_extension": ".py",
      "nbconvert_exporter": "python",
      "pygments_lexer": "ipython3",
      "codemirror_mode": {
        "version": 3,
        "name": "ipython"
      },
      "version": "3.5.4"
    }
  }
}