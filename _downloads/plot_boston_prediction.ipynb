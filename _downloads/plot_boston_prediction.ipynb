{
  "nbformat_minor": 0,
  "cells": [
    {
      "cell_type": "code",
      "execution_count": null,
      "outputs": [],
      "source": [
        "%matplotlib inline"
      ],
      "metadata": {
        "collapsed": false
      }
    },
    {
      "cell_type": "markdown",
      "source": [
        "\nA simple regression analysis on the Boston housing data\n========================================================\n\nHere we perform a simple regression analysis on the Boston housing\ndata, exploring two types of regressors.\n\n\n"
      ],
      "metadata": {}
    },
    {
      "cell_type": "code",
      "execution_count": null,
      "outputs": [],
      "source": [
        "from sklearn.datasets import load_boston\ndata = load_boston()"
      ],
      "metadata": {
        "collapsed": false
      }
    },
    {
      "cell_type": "markdown",
      "source": [
        "Print a histogram of the quantity to predict: price\n\n"
      ],
      "metadata": {}
    },
    {
      "cell_type": "code",
      "execution_count": null,
      "outputs": [],
      "source": [
        "import matplotlib.pyplot as plt\nplt.figure(figsize=(4, 3))\nplt.hist(data.target)\nplt.xlabel('price ($1000s)')\nplt.ylabel('count')\nplt.tight_layout()"
      ],
      "metadata": {
        "collapsed": false
      }
    },
    {
      "cell_type": "markdown",
      "source": [
        "Print the join histogram for each feature\n\n"
      ],
      "metadata": {}
    },
    {
      "cell_type": "code",
      "execution_count": null,
      "outputs": [],
      "source": [
        "for index, feature_name in enumerate(data.feature_names):\n    plt.figure(figsize=(4, 3))\n    plt.scatter(data.data[:, index], data.target)\n    plt.ylabel('Price', size=15)\n    plt.xlabel(feature_name, size=15)\n    plt.tight_layout()"
      ],
      "metadata": {
        "collapsed": false
      }
    },
    {
      "cell_type": "markdown",
      "source": [
        "Simple prediction\n\n"
      ],
      "metadata": {}
    },
    {
      "cell_type": "code",
      "execution_count": null,
      "outputs": [],
      "source": [
        "from sklearn.model_selection import train_test_split\nX_train, X_test, y_train, y_test = train_test_split(data.data, data.target)\n\nfrom sklearn.linear_model import LinearRegression\nclf = LinearRegression()\nclf.fit(X_train, y_train)\npredicted = clf.predict(X_test)\nexpected = y_test\n\nplt.figure(figsize=(4, 3))\nplt.scatter(expected, predicted)\nplt.plot([0, 50], [0, 50], '--k')\nplt.axis('tight')\nplt.xlabel('True price ($1000s)')\nplt.ylabel('Predicted price ($1000s)')\nplt.tight_layout()"
      ],
      "metadata": {
        "collapsed": false
      }
    },
    {
      "cell_type": "markdown",
      "source": [
        "Prediction with gradient boosted tree\n\n"
      ],
      "metadata": {}
    },
    {
      "cell_type": "code",
      "execution_count": null,
      "outputs": [],
      "source": [
        "from sklearn.ensemble import GradientBoostingRegressor\n\nclf = GradientBoostingRegressor()\nclf.fit(X_train, y_train)\n\npredicted = clf.predict(X_test)\nexpected = y_test\n\nplt.figure(figsize=(4, 3))\nplt.scatter(expected, predicted)\nplt.plot([0, 50], [0, 50], '--k')\nplt.axis('tight')\nplt.xlabel('True price ($1000s)')\nplt.ylabel('Predicted price ($1000s)')\nplt.tight_layout()"
      ],
      "metadata": {
        "collapsed": false
      }
    },
    {
      "cell_type": "markdown",
      "source": [
        "Print the error rate\n\n"
      ],
      "metadata": {}
    },
    {
      "cell_type": "code",
      "execution_count": null,
      "outputs": [],
      "source": [
        "import numpy as np\nprint(\"RMS: %r \" % np.sqrt(np.mean((predicted - expected) ** 2)))\n\nplt.show()"
      ],
      "metadata": {
        "collapsed": false
      }
    }
  ],
  "nbformat": 4,
  "metadata": {
    "kernelspec": {
      "display_name": "Python 3",
      "language": "python",
      "name": "python3"
    },
    "language_info": {
      "mimetype": "text/x-python",
      "name": "python",
      "file_extension": ".py",
      "nbconvert_exporter": "python",
      "pygments_lexer": "ipython3",
      "codemirror_mode": {
        "version": 3,
        "name": "ipython"
      },
      "version": "3.5.4"
    }
  }
}