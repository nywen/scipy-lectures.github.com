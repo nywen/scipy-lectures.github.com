{
  "nbformat_minor": 0,
  "cells": [
    {
      "cell_type": "code",
      "execution_count": null,
      "outputs": [],
      "source": [
        "%matplotlib inline"
      ],
      "metadata": {
        "collapsed": false
      }
    },
    {
      "cell_type": "markdown",
      "source": [
        "\nImage denoising\n================\n\nThis example demoes image denoising on a Racoon face.\n\n"
      ],
      "metadata": {}
    },
    {
      "cell_type": "code",
      "execution_count": null,
      "outputs": [],
      "source": [
        "import numpy as np\nimport scipy\nimport scipy.misc\nfrom scipy import ndimage\nimport matplotlib.pyplot as plt\n\nf = scipy.misc.face(gray=True)\nf = f[230:290, 220:320]\n\nnoisy = f + 0.4*f.std()*np.random.random(f.shape)\n\ngauss_denoised = ndimage.gaussian_filter(noisy, 2)\nmed_denoised = ndimage.median_filter(noisy, 3)\n\n\nplt.figure(figsize=(12,2.8))\n\nplt.subplot(131)\nplt.imshow(noisy, cmap=plt.cm.gray, vmin=40, vmax=220)\nplt.axis('off')\nplt.title('noisy', fontsize=20)\nplt.subplot(132)\nplt.imshow(gauss_denoised, cmap=plt.cm.gray, vmin=40, vmax=220)\nplt.axis('off')\nplt.title('Gaussian filter', fontsize=20)\nplt.subplot(133)\nplt.imshow(med_denoised, cmap=plt.cm.gray, vmin=40, vmax=220)\nplt.axis('off')\nplt.title('Median filter', fontsize=20)\n\nplt.subplots_adjust(wspace=0.02, hspace=0.02, top=0.9, bottom=0, left=0,\n                    right=1)\nplt.show()"
      ],
      "metadata": {
        "collapsed": false
      }
    }
  ],
  "nbformat": 4,
  "metadata": {
    "kernelspec": {
      "display_name": "Python 3",
      "language": "python",
      "name": "python3"
    },
    "language_info": {
      "mimetype": "text/x-python",
      "name": "python",
      "file_extension": ".py",
      "nbconvert_exporter": "python",
      "pygments_lexer": "ipython3",
      "codemirror_mode": {
        "version": 3,
        "name": "ipython"
      },
      "version": "3.5.4"
    }
  }
}