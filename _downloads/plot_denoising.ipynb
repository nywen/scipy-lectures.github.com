{
  "nbformat_minor": 0,
  "cells": [
    {
      "cell_type": "code",
      "execution_count": null,
      "outputs": [],
      "source": [
        "%matplotlib inline"
      ],
      "metadata": {
        "collapsed": false
      }
    },
    {
      "cell_type": "markdown",
      "source": [
        "\nDenoising an image with the median filter\n==========================================\n\nThis example shows the original image, the noisy image, the denoised\none (with the median filter) and the difference between the two.\n\n"
      ],
      "metadata": {}
    },
    {
      "cell_type": "code",
      "execution_count": null,
      "outputs": [],
      "source": [
        "import numpy as np\nfrom scipy import ndimage\nimport matplotlib.pyplot as plt\n\nim = np.zeros((20, 20))\nim[5:-5, 5:-5] = 1\nim = ndimage.distance_transform_bf(im)\nim_noise = im + 0.2*np.random.randn(*im.shape)\n\nim_med = ndimage.median_filter(im_noise, 3)\n\nplt.figure(figsize=(16, 5))\n\nplt.subplot(141)\nplt.imshow(im, interpolation='nearest')\nplt.axis('off')\nplt.title('Original image', fontsize=20)\nplt.subplot(142)\nplt.imshow(im_noise, interpolation='nearest', vmin=0, vmax=5)\nplt.axis('off')\nplt.title('Noisy image', fontsize=20)\nplt.subplot(143)\nplt.imshow(im_med, interpolation='nearest', vmin=0, vmax=5)\nplt.axis('off')\nplt.title('Median filter', fontsize=20)\nplt.subplot(144)\nplt.imshow(np.abs(im - im_med), cmap=plt.cm.hot, interpolation='nearest')\nplt.axis('off')\nplt.title('Error', fontsize=20)\n\n\nplt.subplots_adjust(wspace=0.02, hspace=0.02, top=0.9, bottom=0, left=0,\n                    right=1)\n\nplt.show()"
      ],
      "metadata": {
        "collapsed": false
      }
    }
  ],
  "nbformat": 4,
  "metadata": {
    "kernelspec": {
      "display_name": "Python 3",
      "language": "python",
      "name": "python3"
    },
    "language_info": {
      "mimetype": "text/x-python",
      "name": "python",
      "file_extension": ".py",
      "nbconvert_exporter": "python",
      "pygments_lexer": "ipython3",
      "codemirror_mode": {
        "version": 3,
        "name": "ipython"
      },
      "version": "3.5.4"
    }
  }
}