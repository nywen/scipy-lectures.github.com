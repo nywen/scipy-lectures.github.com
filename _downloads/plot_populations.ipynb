{
  "nbformat_minor": 0,
  "cells": [
    {
      "cell_type": "code",
      "execution_count": null,
      "outputs": [],
      "source": [
        "%matplotlib inline"
      ],
      "metadata": {
        "collapsed": false
      }
    },
    {
      "cell_type": "markdown",
      "source": [
        "\nPopulation exercise\n===================\n\nPlot populations of hares, lynxes, and carrots\n\n\n"
      ],
      "metadata": {}
    },
    {
      "cell_type": "code",
      "execution_count": null,
      "outputs": [],
      "source": [
        "import numpy as np\nimport matplotlib.pyplot as plt\n\ndata = np.loadtxt('../data/populations.txt')\nyear, hares, lynxes, carrots = data.T\n\nplt.axes([0.2, 0.1, 0.5, 0.8])\nplt.plot(year, hares, year, lynxes, year, carrots)\nplt.legend(('Hare', 'Lynx', 'Carrot'), loc=(1.05, 0.5))\nplt.show()"
      ],
      "metadata": {
        "collapsed": false
      }
    }
  ],
  "nbformat": 4,
  "metadata": {
    "kernelspec": {
      "display_name": "Python 3",
      "language": "python",
      "name": "python3"
    },
    "language_info": {
      "mimetype": "text/x-python",
      "name": "python",
      "file_extension": ".py",
      "nbconvert_exporter": "python",
      "pygments_lexer": "ipython3",
      "codemirror_mode": {
        "version": 3,
        "name": "ipython"
      },
      "version": "3.5.4"
    }
  }
}