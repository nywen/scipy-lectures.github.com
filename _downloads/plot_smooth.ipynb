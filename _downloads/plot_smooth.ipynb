{
  "nbformat_minor": 0,
  "cells": [
    {
      "cell_type": "code",
      "execution_count": null,
      "outputs": [],
      "source": [
        "%matplotlib inline"
      ],
      "metadata": {
        "collapsed": false
      }
    },
    {
      "cell_type": "markdown",
      "source": [
        "\nSmooth vs non-smooth\n=====================\n\nDraws a figure to explain smooth versus non smooth optimization.\n\n"
      ],
      "metadata": {}
    },
    {
      "cell_type": "code",
      "execution_count": null,
      "outputs": [],
      "source": [
        "import numpy as np\nimport pylab as pl\n\nx = np.linspace(-1.5, 1.5, 101)\n\n# A smooth function\npl.figure(1, figsize=(3, 2.5))\npl.clf()\n\npl.plot(x, np.sqrt(.2 + x**2), linewidth=2)\npl.text(-1, 0, '$f$', size=20)\n\npl.ylim(ymin=-.2)\npl.axis('off')\npl.tight_layout()\n\n# A non-smooth function\npl.figure(2, figsize=(3, 2.5))\npl.clf()\npl.plot(x, np.abs(x), linewidth=2)\npl.text(-1, 0, '$f$', size=20)\n\npl.ylim(ymin=-.2)\npl.axis('off')\npl.tight_layout()\npl.show()"
      ],
      "metadata": {
        "collapsed": false
      }
    }
  ],
  "nbformat": 4,
  "metadata": {
    "kernelspec": {
      "display_name": "Python 3",
      "language": "python",
      "name": "python3"
    },
    "language_info": {
      "mimetype": "text/x-python",
      "name": "python",
      "file_extension": ".py",
      "nbconvert_exporter": "python",
      "pygments_lexer": "ipython3",
      "codemirror_mode": {
        "version": 3,
        "name": "ipython"
      },
      "version": "3.5.4"
    }
  }
}