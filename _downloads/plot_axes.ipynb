{
  "nbformat_minor": 0,
  "cells": [
    {
      "cell_type": "code",
      "execution_count": null,
      "outputs": [],
      "source": [
        "%matplotlib inline"
      ],
      "metadata": {
        "collapsed": false
      }
    },
    {
      "cell_type": "markdown",
      "source": [
        "\nSimple axes example\n====================\n\nThis example shows a couple of simple usage of axes.\n\n\n"
      ],
      "metadata": {}
    },
    {
      "cell_type": "code",
      "execution_count": null,
      "outputs": [],
      "source": [
        "import matplotlib.pyplot as plt\n\nplt.axes([.1, .1, .8, .8])\nplt.xticks(())\nplt.yticks(())\nplt.text(.6, .6, 'axes([0.1, 0.1, .8, .8])', ha='center', va='center',\n        size=20, alpha=.5)\n\nplt.axes([.2, .2, .3, .3])\nplt.xticks(())\nplt.yticks(())\nplt.text(.5, .5, 'axes([0.2, 0.2, .3, .3])', ha='center', va='center',\n        size=16, alpha=.5)\n\nplt.show()"
      ],
      "metadata": {
        "collapsed": false
      }
    }
  ],
  "nbformat": 4,
  "metadata": {
    "kernelspec": {
      "display_name": "Python 3",
      "language": "python",
      "name": "python3"
    },
    "language_info": {
      "mimetype": "text/x-python",
      "name": "python",
      "file_extension": ".py",
      "nbconvert_exporter": "python",
      "pygments_lexer": "ipython3",
      "codemirror_mode": {
        "version": 3,
        "name": "ipython"
      },
      "version": "3.5.4"
    }
  }
}