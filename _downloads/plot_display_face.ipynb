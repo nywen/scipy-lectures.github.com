{
  "nbformat_minor": 0,
  "cells": [
    {
      "cell_type": "code",
      "execution_count": null,
      "outputs": [],
      "source": [
        "%matplotlib inline"
      ],
      "metadata": {
        "collapsed": false
      }
    },
    {
      "cell_type": "markdown",
      "source": [
        "\nDisplay a Racoon Face\n=====================\n\nAn example that displays a racoon face with matplotlib.\n\n"
      ],
      "metadata": {}
    },
    {
      "cell_type": "code",
      "execution_count": null,
      "outputs": [],
      "source": [
        "import scipy.misc\nimport matplotlib.pyplot as plt\n\nf = scipy.misc.face(gray=True)\n\nplt.figure(figsize=(10, 3.6))\n\nplt.subplot(131)\nplt.imshow(f, cmap=plt.cm.gray)\n\nplt.subplot(132)\nplt.imshow(f, cmap=plt.cm.gray, vmin=30, vmax=200)\nplt.axis('off')\n\nplt.subplot(133)\nplt.imshow(f, cmap=plt.cm.gray)\nplt.contour(f, [50, 200])\nplt.axis('off')\n\nplt.subplots_adjust(wspace=0, hspace=0., top=0.99, bottom=0.01, left=0.05,\n                    right=0.99)\nplt.show()"
      ],
      "metadata": {
        "collapsed": false
      }
    }
  ],
  "nbformat": 4,
  "metadata": {
    "kernelspec": {
      "display_name": "Python 3",
      "language": "python",
      "name": "python3"
    },
    "language_info": {
      "mimetype": "text/x-python",
      "name": "python",
      "file_extension": ".py",
      "nbconvert_exporter": "python",
      "pygments_lexer": "ipython3",
      "codemirror_mode": {
        "version": 3,
        "name": "ipython"
      },
      "version": "3.5.4"
    }
  }
}