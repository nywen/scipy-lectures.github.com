{
  "nbformat_minor": 0,
  "cells": [
    {
      "cell_type": "code",
      "execution_count": null,
      "outputs": [],
      "source": [
        "%matplotlib inline"
      ],
      "metadata": {
        "collapsed": false
      }
    },
    {
      "cell_type": "markdown",
      "source": [
        "\nPlotting in polar coordinnates\n===============================\n\nA simple example showing how to plot in polar coordinnates with\nmatplotlib.\n\n"
      ],
      "metadata": {}
    },
    {
      "cell_type": "code",
      "execution_count": null,
      "outputs": [],
      "source": [
        "import numpy as np\nimport matplotlib.pyplot as plt\n\nax = plt.axes([0.025, 0.025, 0.95, 0.95], polar=True)\n\nN = 20\ntheta = np.arange(0.0, 2 * np.pi, 2 * np.pi / N)\nradii = 10 * np.random.rand(N)\nwidth = np.pi / 4 * np.random.rand(N)\nbars = plt.bar(theta, radii, width=width, bottom=0.0)\n\nfor r,bar in zip(radii, bars):\n    bar.set_facecolor(plt.cm.jet(r/10.))\n    bar.set_alpha(0.5)\n\nax.set_xticklabels([])\nax.set_yticklabels([])\nplt.show()"
      ],
      "metadata": {
        "collapsed": false
      }
    }
  ],
  "nbformat": 4,
  "metadata": {
    "kernelspec": {
      "display_name": "Python 3",
      "language": "python",
      "name": "python3"
    },
    "language_info": {
      "mimetype": "text/x-python",
      "name": "python",
      "file_extension": ".py",
      "nbconvert_exporter": "python",
      "pygments_lexer": "ipython3",
      "codemirror_mode": {
        "version": 3,
        "name": "ipython"
      },
      "version": "3.5.4"
    }
  }
}