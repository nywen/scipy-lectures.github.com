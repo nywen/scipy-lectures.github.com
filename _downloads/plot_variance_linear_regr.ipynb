{
  "nbformat_minor": 0,
  "cells": [
    {
      "cell_type": "code",
      "execution_count": null,
      "outputs": [],
      "source": [
        "%matplotlib inline"
      ],
      "metadata": {
        "collapsed": false
      }
    },
    {
      "cell_type": "markdown",
      "source": [
        "\n# Plot variance and regularization in linear models\n\n\n\n\n"
      ],
      "metadata": {}
    },
    {
      "cell_type": "code",
      "execution_count": null,
      "outputs": [],
      "source": [
        "import numpy as np\n\n# Smaller figures\nfrom matplotlib import pyplot as plt\nplt.rcParams['figure.figsize'] = (3, 2)"
      ],
      "metadata": {
        "collapsed": false
      }
    },
    {
      "cell_type": "markdown",
      "source": [
        "We consider the situation where we have only 2 data point\n\n"
      ],
      "metadata": {}
    },
    {
      "cell_type": "code",
      "execution_count": null,
      "outputs": [],
      "source": [
        "X = np.c_[ .5, 1].T\ny = [.5, 1]\nX_test = np.c_[ 0, 2].T"
      ],
      "metadata": {
        "collapsed": false
      }
    },
    {
      "cell_type": "markdown",
      "source": [
        "Without noise, as linear regression fits the data perfectly\n\n"
      ],
      "metadata": {}
    },
    {
      "cell_type": "code",
      "execution_count": null,
      "outputs": [],
      "source": [
        "from sklearn import linear_model\nregr = linear_model.LinearRegression()\nregr.fit(X, y)\nplt.plot(X, y, 'o')\nplt.plot(X_test, regr.predict(X_test))"
      ],
      "metadata": {
        "collapsed": false
      }
    },
    {
      "cell_type": "markdown",
      "source": [
        "In real life situation, we have noise (e.g. measurement noise) in our data:\n\n"
      ],
      "metadata": {}
    },
    {
      "cell_type": "code",
      "execution_count": null,
      "outputs": [],
      "source": [
        "np.random.seed(0)\nfor _ in range(6):\n    noisy_X = X + np.random.normal(loc=0, scale=.1, size=X.shape)\n    plt.plot(noisy_X, y, 'o')\n    regr.fit(noisy_X, y)\n    plt.plot(X_test, regr.predict(X_test))"
      ],
      "metadata": {
        "collapsed": false
      }
    },
    {
      "cell_type": "markdown",
      "source": [
        "As we can see, our linear model captures and amplifies the noise in the\ndata. It displays a lot of variance.\n\nWe can use another linear estimator that uses regularization, the\n:class:`~sklearn.linear_model.Ridge` estimator. This estimator\nregularizes the coefficients by shrinking them to zero, under the\nassumption that very high correlations are often spurious. The alpha\nparameter controls the amount of shrinkage used.\n\n"
      ],
      "metadata": {}
    },
    {
      "cell_type": "code",
      "execution_count": null,
      "outputs": [],
      "source": [
        "regr = linear_model.Ridge(alpha=.1)\nnp.random.seed(0)\nfor _ in range(6):\n    noisy_X = X + np.random.normal(loc=0, scale=.1, size=X.shape)\n    plt.plot(noisy_X, y, 'o')\n    regr.fit(noisy_X, y)\n    plt.plot(X_test, regr.predict(X_test))\n\nplt.show()"
      ],
      "metadata": {
        "collapsed": false
      }
    }
  ],
  "nbformat": 4,
  "metadata": {
    "kernelspec": {
      "display_name": "Python 3",
      "language": "python",
      "name": "python3"
    },
    "language_info": {
      "mimetype": "text/x-python",
      "name": "python",
      "file_extension": ".py",
      "nbconvert_exporter": "python",
      "pygments_lexer": "ipython3",
      "codemirror_mode": {
        "version": 3,
        "name": "ipython"
      },
      "version": "3.5.4"
    }
  }
}