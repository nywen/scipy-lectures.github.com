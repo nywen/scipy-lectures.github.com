{
  "nbformat_minor": 0,
  "cells": [
    {
      "cell_type": "code",
      "execution_count": null,
      "outputs": [],
      "source": [
        "%matplotlib inline"
      ],
      "metadata": {
        "collapsed": false
      }
    },
    {
      "cell_type": "markdown",
      "source": [
        "\nMeasuring Decision Tree performance\n====================================\n\nDemonstrates overfit when testing on train set.\n\n"
      ],
      "metadata": {}
    },
    {
      "cell_type": "markdown",
      "source": [
        "Get the data\n\n"
      ],
      "metadata": {}
    },
    {
      "cell_type": "code",
      "execution_count": null,
      "outputs": [],
      "source": [
        "from sklearn.datasets import load_boston\ndata = load_boston()"
      ],
      "metadata": {
        "collapsed": false
      }
    },
    {
      "cell_type": "markdown",
      "source": [
        "Train and test a model\n\n"
      ],
      "metadata": {}
    },
    {
      "cell_type": "code",
      "execution_count": null,
      "outputs": [],
      "source": [
        "from sklearn.tree import DecisionTreeRegressor\nclf = DecisionTreeRegressor().fit(data.data, data.target)\n\npredicted = clf.predict(data.data)\nexpected = data.target"
      ],
      "metadata": {
        "collapsed": false
      }
    },
    {
      "cell_type": "markdown",
      "source": [
        "Plot predicted as a function of expected\n\n"
      ],
      "metadata": {}
    },
    {
      "cell_type": "code",
      "execution_count": null,
      "outputs": [],
      "source": [
        "from matplotlib import pyplot as plt\nplt.figure(figsize=(4, 3))\nplt.scatter(expected, predicted)\nplt.plot([0, 50], [0, 50], '--k')\nplt.axis('tight')\nplt.xlabel('True price ($1000s)')\nplt.ylabel('Predicted price ($1000s)')\nplt.tight_layout()"
      ],
      "metadata": {
        "collapsed": false
      }
    },
    {
      "cell_type": "markdown",
      "source": [
        "Pretty much no errors!\n\nThis is too good to be true: we are testing the model on the train\ndata, which is not a mesure of generalization.\n\n**The results are not valid**\n\n"
      ],
      "metadata": {}
    }
  ],
  "nbformat": 4,
  "metadata": {
    "kernelspec": {
      "display_name": "Python 3",
      "language": "python",
      "name": "python3"
    },
    "language_info": {
      "mimetype": "text/x-python",
      "name": "python",
      "file_extension": ".py",
      "nbconvert_exporter": "python",
      "pygments_lexer": "ipython3",
      "codemirror_mode": {
        "version": 3,
        "name": "ipython"
      },
      "version": "3.5.4"
    }
  }
}