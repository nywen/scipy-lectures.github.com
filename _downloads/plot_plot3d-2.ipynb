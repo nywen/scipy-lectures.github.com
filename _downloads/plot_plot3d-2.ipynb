{
  "nbformat_minor": 0,
  "cells": [
    {
      "cell_type": "code",
      "execution_count": null,
      "outputs": [],
      "source": [
        "%matplotlib inline"
      ],
      "metadata": {
        "collapsed": false
      }
    },
    {
      "cell_type": "markdown",
      "source": [
        "\n3D plotting\n============\n\nDemo 3D plotting with matplotlib and style the figure.\n\n"
      ],
      "metadata": {}
    },
    {
      "cell_type": "code",
      "execution_count": null,
      "outputs": [],
      "source": [
        "import matplotlib.pyplot as plt\nfrom mpl_toolkits.mplot3d import axes3d\n\nax = plt.gca(projection='3d')\nX, Y, Z = axes3d.get_test_data(0.05)\ncset = ax.contourf(X, Y, Z)\nax.clabel(cset, fontsize=9, inline=1)\n\nplt.xticks(())\nplt.yticks(())\nax.set_zticks(())\n\n\nax.text2D(-0.05, 1.05, \" 3D plots             \\n\",\n          horizontalalignment='left',\n          verticalalignment='top',\n          bbox=dict(facecolor='white', alpha=1.0),\n          family='Lint McCree Intl BB',\n          size='x-large',\n          transform=plt.gca().transAxes)\n\nax.text2D(-0.05, .975, \" Plot 2D or 3D data\",\n          horizontalalignment='left',\n          verticalalignment='top',\n          family='Lint McCree Intl BB',\n          size='medium',\n          transform=plt.gca().transAxes)\n\nplt.show()"
      ],
      "metadata": {
        "collapsed": false
      }
    }
  ],
  "nbformat": 4,
  "metadata": {
    "kernelspec": {
      "display_name": "Python 3",
      "language": "python",
      "name": "python3"
    },
    "language_info": {
      "mimetype": "text/x-python",
      "name": "python",
      "file_extension": ".py",
      "nbconvert_exporter": "python",
      "pygments_lexer": "ipython3",
      "codemirror_mode": {
        "version": 3,
        "name": "ipython"
      },
      "version": "3.5.4"
    }
  }
}