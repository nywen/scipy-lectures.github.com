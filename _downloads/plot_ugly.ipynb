{
  "nbformat_minor": 0,
  "cells": [
    {
      "cell_type": "code",
      "execution_count": null,
      "outputs": [],
      "source": [
        "%matplotlib inline"
      ],
      "metadata": {
        "collapsed": false
      }
    },
    {
      "cell_type": "markdown",
      "source": [
        "\nA example of plotting not quite right\n======================================\n\nAn \"ugly\" example of plotting.\n\n"
      ],
      "metadata": {}
    },
    {
      "cell_type": "code",
      "execution_count": null,
      "outputs": [],
      "source": [
        "import numpy as np\nimport matplotlib\nmatplotlib.use('Agg')\nimport matplotlib.pyplot as plt\n\nmatplotlib.rc('grid', color='black', linestyle='-', linewidth=1)\n\nfig = plt.figure(figsize=(5,4),dpi=72)\naxes = fig.add_axes([0.01, 0.01, .98, 0.98], axisbg='.75')\nX = np.linspace(0, 2, 40, endpoint=True)\nY = np.sin(2 * np.pi * X)\nplt.plot(X, Y, lw=.05, c='b', antialiased=False)\n\nplt.xticks(())\nplt.yticks(np.arange(-1., 1., 0.2))\nplt.grid()\nax = plt.gca()\n\nplt.show()"
      ],
      "metadata": {
        "collapsed": false
      }
    }
  ],
  "nbformat": 4,
  "metadata": {
    "kernelspec": {
      "display_name": "Python 3",
      "language": "python",
      "name": "python3"
    },
    "language_info": {
      "mimetype": "text/x-python",
      "name": "python",
      "file_extension": ".py",
      "nbconvert_exporter": "python",
      "pygments_lexer": "ipython3",
      "codemirror_mode": {
        "version": 3,
        "name": "ipython"
      },
      "version": "3.5.4"
    }
  }
}