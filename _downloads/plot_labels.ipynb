{
  "nbformat_minor": 0,
  "cells": [
    {
      "cell_type": "code",
      "execution_count": null,
      "outputs": [],
      "source": [
        "%matplotlib inline"
      ],
      "metadata": {
        "collapsed": false
      }
    },
    {
      "cell_type": "markdown",
      "source": [
        "\nLabelling connected components of an image\n===========================================\n\nThis example shows how to label connected components of a binary image, using\nthe dedicated skimage.measure.label function.\n\n"
      ],
      "metadata": {}
    },
    {
      "cell_type": "code",
      "execution_count": null,
      "outputs": [],
      "source": [
        "from skimage import measure\nfrom skimage import filters\nimport matplotlib.pyplot as plt\nimport numpy as np\n\nn = 12\nl = 256\nnp.random.seed(1)\nim = np.zeros((l, l))\npoints = l * np.random.random((2, n ** 2))\nim[(points[0]).astype(np.int), (points[1]).astype(np.int)] = 1\nim = filters.gaussian_filter(im, sigma= l / (4. * n))\nblobs = im > 0.7 * im.mean()\n\nall_labels = measure.label(blobs)\nblobs_labels = measure.label(blobs, background=0)\n\nplt.figure(figsize=(9, 3.5))\nplt.subplot(131)\nplt.imshow(blobs, cmap='gray')\nplt.axis('off')\nplt.subplot(132)\nplt.imshow(all_labels, cmap='spectral')\nplt.axis('off')\nplt.subplot(133)\nplt.imshow(blobs_labels, cmap='spectral')\nplt.axis('off')\n\nplt.tight_layout()\nplt.show()"
      ],
      "metadata": {
        "collapsed": false
      }
    }
  ],
  "nbformat": 4,
  "metadata": {
    "kernelspec": {
      "display_name": "Python 3",
      "language": "python",
      "name": "python3"
    },
    "language_info": {
      "mimetype": "text/x-python",
      "name": "python",
      "file_extension": ".py",
      "nbconvert_exporter": "python",
      "pygments_lexer": "ipython3",
      "codemirror_mode": {
        "version": 3,
        "name": "ipython"
      },
      "version": "3.5.4"
    }
  }
}