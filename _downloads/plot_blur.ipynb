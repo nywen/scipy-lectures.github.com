{
  "nbformat_minor": 0,
  "cells": [
    {
      "cell_type": "code",
      "execution_count": null,
      "outputs": [],
      "source": [
        "%matplotlib inline"
      ],
      "metadata": {
        "collapsed": false
      }
    },
    {
      "cell_type": "markdown",
      "source": [
        "\nBlurring of images\n===================\n\nAn example showing various processes that blur an image.\n\n"
      ],
      "metadata": {}
    },
    {
      "cell_type": "code",
      "execution_count": null,
      "outputs": [],
      "source": [
        "import scipy.misc\nfrom scipy import ndimage\nimport matplotlib.pyplot as plt\n\nface = scipy.misc.face(gray=True)\nblurred_face = ndimage.gaussian_filter(face, sigma=3)\nvery_blurred = ndimage.gaussian_filter(face, sigma=5)\nlocal_mean = ndimage.uniform_filter(face, size=11)\n\nplt.figure(figsize=(9, 3))\nplt.subplot(131)\nplt.imshow(blurred_face, cmap=plt.cm.gray)\nplt.axis('off')\nplt.subplot(132)\nplt.imshow(very_blurred, cmap=plt.cm.gray)\nplt.axis('off')\nplt.subplot(133)\nplt.imshow(local_mean, cmap=plt.cm.gray)\nplt.axis('off')\n\nplt.subplots_adjust(wspace=0, hspace=0., top=0.99, bottom=0.01,\n                    left=0.01, right=0.99)\n\nplt.show()"
      ],
      "metadata": {
        "collapsed": false
      }
    }
  ],
  "nbformat": 4,
  "metadata": {
    "kernelspec": {
      "display_name": "Python 3",
      "language": "python",
      "name": "python3"
    },
    "language_info": {
      "mimetype": "text/x-python",
      "name": "python",
      "file_extension": ".py",
      "nbconvert_exporter": "python",
      "pygments_lexer": "ipython3",
      "codemirror_mode": {
        "version": 3,
        "name": "ipython"
      },
      "version": "3.5.4"
    }
  }
}