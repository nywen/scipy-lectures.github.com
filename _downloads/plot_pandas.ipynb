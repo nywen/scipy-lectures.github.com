{
  "nbformat_minor": 0,
  "cells": [
    {
      "cell_type": "code",
      "execution_count": null,
      "outputs": [],
      "source": [
        "%matplotlib inline"
      ],
      "metadata": {
        "collapsed": false
      }
    },
    {
      "cell_type": "markdown",
      "source": [
        "\nPlotting simple quantities of a pandas dataframe\n=================================================\n\nThis example loads from a CSV file data with mixed numerical and\ncategorical entries, and plots a few quantities, separately for females\nand males, thanks to the pandas integrated plotting tool (that uses\nmatplotlib behind the scene).\n\nSee http://pandas.pydata.org/pandas-docs/stable/visualization.html\n\n"
      ],
      "metadata": {}
    },
    {
      "cell_type": "code",
      "execution_count": null,
      "outputs": [],
      "source": [
        "import pandas\n\ndata = pandas.read_csv('brain_size.csv', sep=';', na_values='.')\n\n# Box plots of different columns for each gender\ngroupby_gender = data.groupby('Gender')\ngroupby_gender.boxplot(column=['FSIQ', 'VIQ', 'PIQ'])\n\nfrom pandas.tools import plotting\n\n# Scatter matrices for different columns\nplotting.scatter_matrix(data[['Weight', 'Height', 'MRI_Count']])\nplotting.scatter_matrix(data[['PIQ', 'VIQ', 'FSIQ']])\n\nimport matplotlib.pyplot as plt\nplt.show()"
      ],
      "metadata": {
        "collapsed": false
      }
    }
  ],
  "nbformat": 4,
  "metadata": {
    "kernelspec": {
      "display_name": "Python 3",
      "language": "python",
      "name": "python3"
    },
    "language_info": {
      "mimetype": "text/x-python",
      "name": "python",
      "file_extension": ".py",
      "nbconvert_exporter": "python",
      "pygments_lexer": "ipython3",
      "codemirror_mode": {
        "version": 3,
        "name": "ipython"
      },
      "version": "3.5.4"
    }
  }
}