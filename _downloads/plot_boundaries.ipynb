{
  "nbformat_minor": 0,
  "cells": [
    {
      "cell_type": "code",
      "execution_count": null,
      "outputs": [],
      "source": [
        "%matplotlib inline"
      ],
      "metadata": {
        "collapsed": false
      }
    },
    {
      "cell_type": "markdown",
      "source": [
        "\nSegmentation contours\n=====================\n\nVisualize segmentation contours on original grayscale image.\n\n"
      ],
      "metadata": {}
    },
    {
      "cell_type": "code",
      "execution_count": null,
      "outputs": [],
      "source": [
        "from skimage import data, segmentation\nfrom skimage import filters\nimport matplotlib.pyplot as plt\nimport numpy as np\n\ncoins = data.coins()\nmask = coins > filters.threshold_otsu(coins)\nclean_border = segmentation.clear_border(mask).astype(np.int)\n\ncoins_edges = segmentation.mark_boundaries(coins, clean_border)\n\nplt.figure(figsize=(8, 3.5))\nplt.subplot(121)\nplt.imshow(clean_border, cmap='gray')\nplt.axis('off')\nplt.subplot(122)\nplt.imshow(coins_edges)\nplt.axis('off')\n\nplt.tight_layout()\nplt.show()"
      ],
      "metadata": {
        "collapsed": false
      }
    }
  ],
  "nbformat": 4,
  "metadata": {
    "kernelspec": {
      "display_name": "Python 3",
      "language": "python",
      "name": "python3"
    },
    "language_info": {
      "mimetype": "text/x-python",
      "name": "python",
      "file_extension": ".py",
      "nbconvert_exporter": "python",
      "pygments_lexer": "ipython3",
      "codemirror_mode": {
        "version": 3,
        "name": "ipython"
      },
      "version": "3.5.4"
    }
  }
}