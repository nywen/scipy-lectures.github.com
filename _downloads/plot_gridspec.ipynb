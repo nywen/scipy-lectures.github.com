{
  "nbformat_minor": 0,
  "cells": [
    {
      "cell_type": "code",
      "execution_count": null,
      "outputs": [],
      "source": [
        "%matplotlib inline"
      ],
      "metadata": {
        "collapsed": false
      }
    },
    {
      "cell_type": "markdown",
      "source": [
        "\nGridSpec\n=========\n\nAn example demoing gridspec\n\n"
      ],
      "metadata": {}
    },
    {
      "cell_type": "code",
      "execution_count": null,
      "outputs": [],
      "source": [
        "import matplotlib.pyplot as plt\nimport matplotlib.gridspec as gridspec\n\nplt.figure(figsize=(6, 4))\nG = gridspec.GridSpec(3, 3)\n\naxes_1 = plt.subplot(G[0, :])\nplt.xticks(())\nplt.yticks(())\nplt.text(0.5, 0.5, 'Axes 1', ha='center', va='center', size=24, alpha=.5)\n\naxes_2 = plt.subplot(G[1, :-1])\nplt.xticks(())\nplt.yticks(())\nplt.text(0.5, 0.5, 'Axes 2', ha='center', va='center', size=24, alpha=.5)\n\naxes_3 = plt.subplot(G[1:, -1])\nplt.xticks(())\nplt.yticks(())\nplt.text(0.5, 0.5, 'Axes 3', ha='center', va='center', size=24, alpha=.5)\n\naxes_4 = plt.subplot(G[-1, 0])\nplt.xticks(())\nplt.yticks(())\nplt.text(0.5, 0.5, 'Axes 4', ha='center', va='center', size=24, alpha=.5)\n\naxes_5 = plt.subplot(G[-1, -2])\nplt.xticks(())\nplt.yticks(())\nplt.text(0.5, 0.5, 'Axes 5', ha='center', va='center', size=24, alpha=.5)\n\nplt.tight_layout()\nplt.show()"
      ],
      "metadata": {
        "collapsed": false
      }
    }
  ],
  "nbformat": 4,
  "metadata": {
    "kernelspec": {
      "display_name": "Python 3",
      "language": "python",
      "name": "python3"
    },
    "language_info": {
      "mimetype": "text/x-python",
      "name": "python",
      "file_extension": ".py",
      "nbconvert_exporter": "python",
      "pygments_lexer": "ipython3",
      "codemirror_mode": {
        "version": 3,
        "name": "ipython"
      },
      "version": "3.5.4"
    }
  }
}