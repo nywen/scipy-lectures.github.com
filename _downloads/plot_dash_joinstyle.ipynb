{
  "nbformat_minor": 0,
  "cells": [
    {
      "cell_type": "code",
      "execution_count": null,
      "outputs": [],
      "source": [
        "%matplotlib inline"
      ],
      "metadata": {
        "collapsed": false
      }
    },
    {
      "cell_type": "markdown",
      "source": [
        "\nDash join style\n================\n\nExample demoing the dash join style.\n\n"
      ],
      "metadata": {}
    },
    {
      "cell_type": "code",
      "execution_count": null,
      "outputs": [],
      "source": [
        "import numpy as np\nimport matplotlib.pyplot as plt\n\nsize = 256, 16\ndpi = 72.0\nfigsize= size[0] / float(dpi), size[1] / float(dpi)\nfig = plt.figure(figsize=figsize, dpi=dpi)\nfig.patch.set_alpha(0)\nplt.axes([0, 0, 1, 1], frameon=False)\n\nplt.plot(np.arange(3), [0, 1, 0], color=\"blue\", dashes=[12, 5], linewidth=8,\n        dash_joinstyle='miter')\nplt.plot(4 + np.arange(3), [0, 1, 0], color=\"blue\", dashes=[12, 5],\n        linewidth=8, dash_joinstyle='bevel')\nplt.plot(8 + np.arange(3), [0, 1, 0], color=\"blue\", dashes=[12, 5],\n        linewidth=8, dash_joinstyle='round')\n\nplt.xlim(0, 12)\nplt.ylim(-1, 2)\nplt.xticks(())\nplt.yticks(())\n\nplt.show()"
      ],
      "metadata": {
        "collapsed": false
      }
    }
  ],
  "nbformat": 4,
  "metadata": {
    "kernelspec": {
      "display_name": "Python 3",
      "language": "python",
      "name": "python3"
    },
    "language_info": {
      "mimetype": "text/x-python",
      "name": "python",
      "file_extension": ".py",
      "nbconvert_exporter": "python",
      "pygments_lexer": "ipython3",
      "codemirror_mode": {
        "version": 3,
        "name": "ipython"
      },
      "version": "3.5.4"
    }
  }
}