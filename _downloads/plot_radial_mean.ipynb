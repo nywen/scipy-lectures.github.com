{
  "nbformat_minor": 0,
  "cells": [
    {
      "cell_type": "code",
      "execution_count": null,
      "outputs": [],
      "source": [
        "%matplotlib inline"
      ],
      "metadata": {
        "collapsed": false
      }
    },
    {
      "cell_type": "markdown",
      "source": [
        "\nRadial mean\n============\n\nThis example shows how to do a radial mean with scikit-image.\n\n"
      ],
      "metadata": {}
    },
    {
      "cell_type": "code",
      "execution_count": null,
      "outputs": [],
      "source": [
        "import numpy as np\nimport scipy\nfrom scipy import ndimage\nimport matplotlib.pyplot as plt\n\nf = scipy.misc.face(gray=True)\nsx, sy = f.shape\nX, Y = np.ogrid[0:sx, 0:sy]\n\n\nr = np.hypot(X - sx/2, Y - sy/2)\n\nrbin = (20* r/r.max()).astype(np.int)\nradial_mean = ndimage.mean(f, labels=rbin, index=np.arange(1, rbin.max() +1))\n\nplt.figure(figsize=(5, 5))\nplt.axes([0, 0, 1, 1])\nplt.imshow(rbin, cmap=plt.cm.spectral)\nplt.axis('off')\n\nplt.show()"
      ],
      "metadata": {
        "collapsed": false
      }
    }
  ],
  "nbformat": 4,
  "metadata": {
    "kernelspec": {
      "display_name": "Python 3",
      "language": "python",
      "name": "python3"
    },
    "language_info": {
      "mimetype": "text/x-python",
      "name": "python",
      "file_extension": ".py",
      "nbconvert_exporter": "python",
      "pygments_lexer": "ipython3",
      "codemirror_mode": {
        "version": 3,
        "name": "ipython"
      },
      "version": "3.5.4"
    }
  }
}