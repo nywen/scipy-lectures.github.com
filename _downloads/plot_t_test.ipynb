{
  "nbformat_minor": 0,
  "cells": [
    {
      "cell_type": "code",
      "execution_count": null,
      "outputs": [],
      "source": [
        "%matplotlib inline"
      ],
      "metadata": {
        "collapsed": false
      }
    },
    {
      "cell_type": "markdown",
      "source": [
        "\n# Comparing 2 sets of samples from Gaussians\n\n\n\n"
      ],
      "metadata": {}
    },
    {
      "cell_type": "code",
      "execution_count": null,
      "outputs": [],
      "source": [
        "import numpy as np\nfrom matplotlib import pyplot as plt\n\n# Generates 2 sets of observations\nsamples1 = np.random.normal(0, size=1000)\nsamples2 = np.random.normal(1, size=1000)\n\n# Compute a histogram of the sample\nbins = np.linspace(-4, 4, 30)\nhistogram1, bins = np.histogram(samples1, bins=bins, normed=True)\nhistogram2, bins = np.histogram(samples2, bins=bins, normed=True)\n\nplt.figure(figsize=(6, 4))\nplt.hist(samples1, bins=bins, normed=True, label=\"Samples 1\")\nplt.hist(samples2, bins=bins, normed=True, label=\"Samples 2\")\nplt.legend(loc='best')\nplt.show()"
      ],
      "metadata": {
        "collapsed": false
      }
    }
  ],
  "nbformat": 4,
  "metadata": {
    "kernelspec": {
      "display_name": "Python 3",
      "language": "python",
      "name": "python3"
    },
    "language_info": {
      "mimetype": "text/x-python",
      "name": "python",
      "file_extension": ".py",
      "nbconvert_exporter": "python",
      "pygments_lexer": "ipython3",
      "codemirror_mode": {
        "version": 3,
        "name": "ipython"
      },
      "version": "3.5.4"
    }
  }
}