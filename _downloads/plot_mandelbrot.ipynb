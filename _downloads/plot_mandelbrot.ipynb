{
  "nbformat_minor": 0,
  "cells": [
    {
      "cell_type": "code",
      "execution_count": null,
      "outputs": [],
      "source": [
        "%matplotlib inline"
      ],
      "metadata": {
        "collapsed": false
      }
    },
    {
      "cell_type": "markdown",
      "source": [
        "\nMandelbrot set\n==============\n\nCompute the Mandelbrot fractal and plot it\n\n\n"
      ],
      "metadata": {}
    },
    {
      "cell_type": "code",
      "execution_count": null,
      "outputs": [],
      "source": [
        "import numpy as np\nimport matplotlib.pyplot as plt\nfrom numpy import newaxis\n\ndef compute_mandelbrot(N_max, some_threshold, nx, ny):\n    # A grid of c-values\n    x = np.linspace(-2, 1, nx)\n    y = np.linspace(-1.5, 1.5, ny)\n\n    c = x[:,newaxis] + 1j*y[newaxis,:]\n\n    # Mandelbrot iteration\n\n    z = c\n    for j in range(N_max):\n        z = z**2 + c\n\n    mandelbrot_set = (abs(z) < some_threshold)\n\n    return mandelbrot_set\n\nmandelbrot_set = compute_mandelbrot(50, 50., 601, 401)\n\nplt.imshow(mandelbrot_set.T, extent=[-2, 1, -1.5, 1.5])\nplt.gray()\nplt.show()"
      ],
      "metadata": {
        "collapsed": false
      }
    }
  ],
  "nbformat": 4,
  "metadata": {
    "kernelspec": {
      "display_name": "Python 3",
      "language": "python",
      "name": "python3"
    },
    "language_info": {
      "mimetype": "text/x-python",
      "name": "python",
      "file_extension": ".py",
      "nbconvert_exporter": "python",
      "pygments_lexer": "ipython3",
      "codemirror_mode": {
        "version": 3,
        "name": "ipython"
      },
      "version": "3.5.4"
    }
  }
}