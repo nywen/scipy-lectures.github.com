{
  "nbformat_minor": 0,
  "cells": [
    {
      "cell_type": "code",
      "execution_count": null,
      "outputs": [],
      "source": [
        "%matplotlib inline"
      ],
      "metadata": {
        "collapsed": false
      }
    },
    {
      "cell_type": "markdown",
      "source": [
        "\n# Integrating a simple ODE\n\n\nSolve the ODE dy/dt = -2y between t = 0..4, with the initial condition\ny(t=0) = 1.\n\n"
      ],
      "metadata": {}
    },
    {
      "cell_type": "code",
      "execution_count": null,
      "outputs": [],
      "source": [
        "import numpy as np\nfrom scipy.integrate import odeint\nfrom matplotlib import pyplot as plt\n\ndef calc_derivative(ypos, time):\n    return -2*ypos\n\ntime_vec = np.linspace(0, 4, 40)\nyvec = odeint(calc_derivative, 1, time_vec)\n\nplt.figure(figsize=(4, 3))\nplt.plot(time_vec, yvec)\nplt.xlabel('t: Time')\nplt.ylabel('y: Position')\nplt.tight_layout()"
      ],
      "metadata": {
        "collapsed": false
      }
    }
  ],
  "nbformat": 4,
  "metadata": {
    "kernelspec": {
      "display_name": "Python 3",
      "language": "python",
      "name": "python3"
    },
    "language_info": {
      "mimetype": "text/x-python",
      "name": "python",
      "file_extension": ".py",
      "nbconvert_exporter": "python",
      "pygments_lexer": "ipython3",
      "codemirror_mode": {
        "version": 3,
        "name": "ipython"
      },
      "version": "3.5.4"
    }
  }
}